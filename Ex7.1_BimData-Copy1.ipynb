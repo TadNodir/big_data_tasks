{
 "cells": [
  {
   "cell_type": "markdown",
   "id": "3da547ed-1606-49e7-b7f6-f306d62e589c",
   "metadata": {},
   "source": [
    "# Ex 7.1 Visualizing a large Dataset\n",
    "Below you will find a large(r) dataset with time series data of environmental sensors\n",
    "\n",
    "\n",
    "Hint: Rooms with a '0' as second digit have a different orientation than rooms with a '1'\n",
    "\n",
    "You might use you own dataset as well under the asumption:\n",
    "* you have time series data\n",
    "* you have at least three additional features that depend on time\n"
   ]
  },
  {
   "cell_type": "markdown",
   "id": "2f24dcea-f0da-443c-8fc7-664cc4a6f7c2",
   "metadata": {},
   "source": [
    "## 0 Install required packages \n",
    "* for presentation mode in jupyter: Install Rise. After that, you can run a presentation directly from jupyter-notebook<br>\n",
    "  In order to create slides you MUST run in jupyter-notebook mode. Jupyter-Lab is not (yet) supporting RISE. When in question look at the top line:<br>\n",
    "  It should read something like *http://localhost:8888/tree/*\n",
    "  \n",
    "  Then:<br>\n",
    "  * In the notebook menu go to  View -> Cell Toolbar -> Slideshow\n",
    "  * This enables a dropdown menu in the very right corner of each cell of your notebook. <br>\n",
    "    From the dropdown you can select the type of cell in your slideshow:<br>\n",
    "    * Slide: A new topic/slide. This creates a new slide in your presentation following the previous slide to the right (when using the navigation buttons in the presentation).\n",
    "    * Sub-Slide: This starts a new section within a topic. Sub-Slide cells are placed on a new slide underneath the previous slide.\n",
    "    * Fragments: Additional information on a slide. Fragments appear on the same slide or sub-slide. This is the typical Powerpoint style animation.\n",
    "    * Notes: Speaker notes. These appear in a separate browser window.\n",
    "    * Skip: Cells will not appear in the presentation.\n",
    "* For visualization and interactive diagrams install plotly<br> You will finde the documentation [here](https://plotly.com/python/)"
   ]
  },
  {
   "cell_type": "code",
   "execution_count": 1,
   "id": "18feac24-2e37-4985-ba62-cbba5269e7aa",
   "metadata": {},
   "outputs": [
    {
     "name": "stdout",
     "output_type": "stream",
     "text": [
      "Collecting package metadata (current_repodata.json): ...working... done\n",
      "Solving environment: ...working... done\n",
      "\n",
      "## Package Plan ##\n",
      "\n",
      "  environment location: C:\\Users\\tadno\\anaconda3\n",
      "\n",
      "  added / updated specs:\n",
      "    - rise\n",
      "\n",
      "\n",
      "The following packages will be UPDATED:\n",
      "\n",
      "  ca-certificates    pkgs/main::ca-certificates-2023.08.22~ --> conda-forge::ca-certificates-2023.11.17-h56e8100_0 \n",
      "\n",
      "The following packages will be SUPERSEDED by a higher-priority channel:\n",
      "\n",
      "  certifi            pkgs/main/win-64::certifi-2023.11.17-~ --> conda-forge/noarch::certifi-2023.11.17-pyhd8ed1ab_0 \n",
      "\n",
      "\n",
      "\n",
      "Downloading and Extracting Packages\n",
      "\n",
      "\n",
      "Preparing transaction: ...working... done\n",
      "Verifying transaction: ...working... done\n",
      "Executing transaction: ...working... done\n"
     ]
    },
    {
     "name": "stderr",
     "output_type": "stream",
     "text": [
      "\n",
      "\n",
      "==> WARNING: A newer version of conda exists. <==\n",
      "  current version: 23.3.1\n",
      "  latest version: 23.10.0\n",
      "\n",
      "Please update conda by running\n",
      "\n",
      "    $ conda update -n base -c defaults conda\n",
      "\n",
      "Or to minimize the number of packages updated during conda update use\n",
      "\n",
      "     conda install conda=23.10.0\n",
      "\n",
      "\n"
     ]
    },
    {
     "name": "stdout",
     "output_type": "stream",
     "text": [
      "Collecting package metadata (current_repodata.json): ...working... done\n",
      "Solving environment: ...working... done\n",
      "\n",
      "## Package Plan ##\n",
      "\n",
      "  environment location: C:\\Users\\tadno\\anaconda3\n",
      "\n",
      "  added / updated specs:\n",
      "    - plotly\n",
      "\n",
      "\n",
      "The following packages will be SUPERSEDED by a higher-priority channel:\n",
      "\n",
      "  ca-certificates    conda-forge::ca-certificates-2023.11.~ --> pkgs/main::ca-certificates-2023.08.22-haa95532_0 \n",
      "  certifi            conda-forge/noarch::certifi-2023.11.1~ --> pkgs/main/win-64::certifi-2023.11.17-py310haa95532_0 \n",
      "\n",
      "\n",
      "\n",
      "Downloading and Extracting Packages\n",
      "\n",
      "\n",
      "Preparing transaction: ...working... done\n",
      "Verifying transaction: ...working... done\n",
      "Executing transaction: ...working... done\n"
     ]
    },
    {
     "name": "stderr",
     "output_type": "stream",
     "text": [
      "\n",
      "\n",
      "==> WARNING: A newer version of conda exists. <==\n",
      "  current version: 23.3.1\n",
      "  latest version: 23.10.0\n",
      "\n",
      "Please update conda by running\n",
      "\n",
      "    $ conda update -n base -c defaults conda\n",
      "\n",
      "Or to minimize the number of packages updated during conda update use\n",
      "\n",
      "     conda install conda=23.10.0\n",
      "\n",
      "\n"
     ]
    }
   ],
   "source": [
    "import sys\n",
    "\n",
    "#install rise if it is not installed\n",
    "!conda install --yes --prefix {sys.prefix} -c conda-forge rise\n",
    "\n",
    "#install plotly if it is not installed\n",
    "!conda install --yes --prefix {sys.prefix} plotly"
   ]
  },
  {
   "cell_type": "code",
   "execution_count": 2,
   "id": "e0775d82-4cda-4091-9ae4-0d4389ca9bd7",
   "metadata": {},
   "outputs": [
    {
     "name": "stdout",
     "output_type": "stream",
     "text": [
      "Requirement already satisfied: fastparquet in c:\\users\\tadno\\anaconda3\\lib\\site-packages (2023.10.1)\n",
      "Requirement already satisfied: pyarrow in c:\\users\\tadno\\anaconda3\\lib\\site-packages (14.0.1)\n",
      "Requirement already satisfied: pandas>=1.5.0 in c:\\users\\tadno\\anaconda3\\lib\\site-packages (from fastparquet) (1.5.3)\n",
      "Requirement already satisfied: numpy>=1.20.3 in c:\\users\\tadno\\anaconda3\\lib\\site-packages (from fastparquet) (1.23.5)\n",
      "Requirement already satisfied: fsspec in c:\\users\\tadno\\anaconda3\\lib\\site-packages (from fastparquet) (2022.11.0)\n",
      "Requirement already satisfied: cramjam>=2.3 in c:\\users\\tadno\\anaconda3\\lib\\site-packages (from fastparquet) (2.7.0)\n",
      "Requirement already satisfied: packaging in c:\\users\\tadno\\anaconda3\\lib\\site-packages (from fastparquet) (22.0)\n",
      "Requirement already satisfied: python-dateutil>=2.8.1 in c:\\users\\tadno\\anaconda3\\lib\\site-packages (from pandas>=1.5.0->fastparquet) (2.8.2)\n",
      "Requirement already satisfied: pytz>=2020.1 in c:\\users\\tadno\\anaconda3\\lib\\site-packages (from pandas>=1.5.0->fastparquet) (2022.7)\n",
      "Requirement already satisfied: six>=1.5 in c:\\users\\tadno\\anaconda3\\lib\\site-packages (from python-dateutil>=2.8.1->pandas>=1.5.0->fastparquet) (1.16.0)\n"
     ]
    }
   ],
   "source": [
    "import pandas as pd\n",
    "import numpy as np\n",
    "import matplotlib.pyplot as plt\n",
    "import seaborn as sns\n",
    "sns.set()\n",
    "\n",
    "import plotly.express as px\n",
    "import plotly.graph_objects as go\n",
    "import os\n",
    "\n",
    "!{sys.executable} -m pip install fastparquet pyarrow"
   ]
  },
  {
   "cell_type": "markdown",
   "id": "b4ce5eba-b1bf-47c6-880f-2951e9b65f05",
   "metadata": {},
   "source": [
    "## 1 Load the data into a dataframe and convert the date strings\n",
    "\n",
    "Hint, you might also find a parquet file. In that case, you can use the parquet file. It has the date already converted."
   ]
  },
  {
   "cell_type": "code",
   "execution_count": 3,
   "id": "9876b4e7-5796-44dd-be65-23df560ee022",
   "metadata": {},
   "outputs": [
    {
     "name": "stdout",
     "output_type": "stream",
     "text": [
      "CPU times: total: 188 ms\n",
      "Wall time: 242 ms\n"
     ]
    },
    {
     "data": {
      "text/html": [
       "<div>\n",
       "<style scoped>\n",
       "    .dataframe tbody tr th:only-of-type {\n",
       "        vertical-align: middle;\n",
       "    }\n",
       "\n",
       "    .dataframe tbody tr th {\n",
       "        vertical-align: top;\n",
       "    }\n",
       "\n",
       "    .dataframe thead th {\n",
       "        text-align: right;\n",
       "    }\n",
       "</style>\n",
       "<table border=\"1\" class=\"dataframe\">\n",
       "  <thead>\n",
       "    <tr style=\"text-align: right;\">\n",
       "      <th></th>\n",
       "      <th>source</th>\n",
       "      <th>datetime</th>\n",
       "      <th>id</th>\n",
       "      <th>celsius</th>\n",
       "      <th>pressure</th>\n",
       "      <th>humidity</th>\n",
       "      <th>sensor</th>\n",
       "      <th>room</th>\n",
       "    </tr>\n",
       "  </thead>\n",
       "  <tbody>\n",
       "    <tr>\n",
       "      <th>0</th>\n",
       "      <td>0013A20041A94BE7</td>\n",
       "      <td>2021-03-21 01:46:22</td>\n",
       "      <td>1.616288e+09</td>\n",
       "      <td>18.772852</td>\n",
       "      <td>969.5412</td>\n",
       "      <td>33.374760</td>\n",
       "      <td>0013A20041A94BE7</td>\n",
       "      <td>H203</td>\n",
       "    </tr>\n",
       "    <tr>\n",
       "      <th>1</th>\n",
       "      <td>0013A20041A94BE7</td>\n",
       "      <td>2021-03-21 01:51:24</td>\n",
       "      <td>1.616288e+09</td>\n",
       "      <td>18.772852</td>\n",
       "      <td>969.5412</td>\n",
       "      <td>33.369170</td>\n",
       "      <td>0013A20041A94BE7</td>\n",
       "      <td>H203</td>\n",
       "    </tr>\n",
       "    <tr>\n",
       "      <th>2</th>\n",
       "      <td>0013A20041A94BE7</td>\n",
       "      <td>2021-03-21 01:56:27</td>\n",
       "      <td>1.616288e+09</td>\n",
       "      <td>18.767773</td>\n",
       "      <td>969.4889</td>\n",
       "      <td>33.704514</td>\n",
       "      <td>0013A20041A94BE7</td>\n",
       "      <td>H203</td>\n",
       "    </tr>\n",
       "    <tr>\n",
       "      <th>3</th>\n",
       "      <td>0013A20041A94BE7</td>\n",
       "      <td>2021-03-21 02:01:29</td>\n",
       "      <td>1.616288e+09</td>\n",
       "      <td>18.747656</td>\n",
       "      <td>969.5412</td>\n",
       "      <td>33.441830</td>\n",
       "      <td>0013A20041A94BE7</td>\n",
       "      <td>H203</td>\n",
       "    </tr>\n",
       "    <tr>\n",
       "      <th>4</th>\n",
       "      <td>0013A20041A94BE7</td>\n",
       "      <td>2021-03-21 02:06:31</td>\n",
       "      <td>1.616289e+09</td>\n",
       "      <td>18.742579</td>\n",
       "      <td>969.4889</td>\n",
       "      <td>33.508900</td>\n",
       "      <td>0013A20041A94BE7</td>\n",
       "      <td>H203</td>\n",
       "    </tr>\n",
       "  </tbody>\n",
       "</table>\n",
       "</div>"
      ],
      "text/plain": [
       "             source            datetime            id    celsius  pressure  \\\n",
       "0  0013A20041A94BE7 2021-03-21 01:46:22  1.616288e+09  18.772852  969.5412   \n",
       "1  0013A20041A94BE7 2021-03-21 01:51:24  1.616288e+09  18.772852  969.5412   \n",
       "2  0013A20041A94BE7 2021-03-21 01:56:27  1.616288e+09  18.767773  969.4889   \n",
       "3  0013A20041A94BE7 2021-03-21 02:01:29  1.616288e+09  18.747656  969.5412   \n",
       "4  0013A20041A94BE7 2021-03-21 02:06:31  1.616289e+09  18.742579  969.4889   \n",
       "\n",
       "    humidity            sensor  room  \n",
       "0  33.374760  0013A20041A94BE7  H203  \n",
       "1  33.369170  0013A20041A94BE7  H203  \n",
       "2  33.704514  0013A20041A94BE7  H203  \n",
       "3  33.441830  0013A20041A94BE7  H203  \n",
       "4  33.508900  0013A20041A94BE7  H203  "
      ]
     },
     "execution_count": 3,
     "metadata": {},
     "output_type": "execute_result"
    }
   ],
   "source": [
    "parquetFilename = r\".\\07092021bimsim_room.parquet\"\n",
    "filename = r\".\\07092021bimsim_room.parquet.csv\"\n",
    "\n",
    "isParquet = os.path.exists(parquetFilename)\n",
    "if isParquet:\n",
    "    %time df = pd.read_parquet(parquetFilename)\n",
    "else:\n",
    "    %time df = pd.read_csv(filename, sep=\",\")\n",
    "df.head()"
   ]
  },
  {
   "cell_type": "markdown",
   "id": "82a43412-f793-4ad1-83e1-d02cebbbb5fd",
   "metadata": {},
   "source": [
    "## 2 Remove duplicate or unused data to reduce total memory consumption\n",
    "\n",
    "Domain knowledge:\n",
    "* the columns \"source\" and \"sensor\" are identical\n",
    "* \"sensor\" and \"room\" have a 1:1 mapping\n",
    "* \"id\" contains the datetime as float\n",
    "* some sensors might deliver negative temperatures <100°C. This is an errorneous measurement"
   ]
  },
  {
   "cell_type": "markdown",
   "id": "3460fad1",
   "metadata": {},
   "source": [
    "As mentioned above we are going to remove `source` column, as it duplicates the `sensor` column. Moreover we also want to remove `sensor` column itself, because it maps the `room` column 1:1 and we are not going to need sensor name later in the task"
   ]
  },
  {
   "cell_type": "code",
   "execution_count": 4,
   "id": "52673579-db03-4d3c-8327-8413347d5b4a",
   "metadata": {},
   "outputs": [
    {
     "data": {
      "text/html": [
       "<div>\n",
       "<style scoped>\n",
       "    .dataframe tbody tr th:only-of-type {\n",
       "        vertical-align: middle;\n",
       "    }\n",
       "\n",
       "    .dataframe tbody tr th {\n",
       "        vertical-align: top;\n",
       "    }\n",
       "\n",
       "    .dataframe thead th {\n",
       "        text-align: right;\n",
       "    }\n",
       "</style>\n",
       "<table border=\"1\" class=\"dataframe\">\n",
       "  <thead>\n",
       "    <tr style=\"text-align: right;\">\n",
       "      <th></th>\n",
       "      <th>datetime</th>\n",
       "      <th>celsius</th>\n",
       "      <th>pressure</th>\n",
       "      <th>humidity</th>\n",
       "      <th>sensor</th>\n",
       "      <th>room</th>\n",
       "    </tr>\n",
       "  </thead>\n",
       "  <tbody>\n",
       "    <tr>\n",
       "      <th>0</th>\n",
       "      <td>2021-03-21 01:46:22</td>\n",
       "      <td>18.772852</td>\n",
       "      <td>969.5412</td>\n",
       "      <td>33.374760</td>\n",
       "      <td>0013A20041A94BE7</td>\n",
       "      <td>H203</td>\n",
       "    </tr>\n",
       "    <tr>\n",
       "      <th>1</th>\n",
       "      <td>2021-03-21 01:51:24</td>\n",
       "      <td>18.772852</td>\n",
       "      <td>969.5412</td>\n",
       "      <td>33.369170</td>\n",
       "      <td>0013A20041A94BE7</td>\n",
       "      <td>H203</td>\n",
       "    </tr>\n",
       "    <tr>\n",
       "      <th>2</th>\n",
       "      <td>2021-03-21 01:56:27</td>\n",
       "      <td>18.767773</td>\n",
       "      <td>969.4889</td>\n",
       "      <td>33.704514</td>\n",
       "      <td>0013A20041A94BE7</td>\n",
       "      <td>H203</td>\n",
       "    </tr>\n",
       "    <tr>\n",
       "      <th>3</th>\n",
       "      <td>2021-03-21 02:01:29</td>\n",
       "      <td>18.747656</td>\n",
       "      <td>969.5412</td>\n",
       "      <td>33.441830</td>\n",
       "      <td>0013A20041A94BE7</td>\n",
       "      <td>H203</td>\n",
       "    </tr>\n",
       "    <tr>\n",
       "      <th>4</th>\n",
       "      <td>2021-03-21 02:06:31</td>\n",
       "      <td>18.742579</td>\n",
       "      <td>969.4889</td>\n",
       "      <td>33.508900</td>\n",
       "      <td>0013A20041A94BE7</td>\n",
       "      <td>H203</td>\n",
       "    </tr>\n",
       "  </tbody>\n",
       "</table>\n",
       "</div>"
      ],
      "text/plain": [
       "             datetime    celsius  pressure   humidity            sensor  room\n",
       "0 2021-03-21 01:46:22  18.772852  969.5412  33.374760  0013A20041A94BE7  H203\n",
       "1 2021-03-21 01:51:24  18.772852  969.5412  33.369170  0013A20041A94BE7  H203\n",
       "2 2021-03-21 01:56:27  18.767773  969.4889  33.704514  0013A20041A94BE7  H203\n",
       "3 2021-03-21 02:01:29  18.747656  969.5412  33.441830  0013A20041A94BE7  H203\n",
       "4 2021-03-21 02:06:31  18.742579  969.4889  33.508900  0013A20041A94BE7  H203"
      ]
     },
     "execution_count": 4,
     "metadata": {},
     "output_type": "execute_result"
    }
   ],
   "source": [
    "data = df.copy()\n",
    "data.drop(columns=['source', 'id'], inplace=True)\n",
    "data.drop_duplicates(inplace=True)\n",
    "data.loc[data['celsius'] < -100, 'celsius'] = np.nan\n",
    "data.reset_index(drop=True, inplace=True)\n",
    "data.head()"
   ]
  },
  {
   "cell_type": "markdown",
   "id": "bb9edd85",
   "metadata": {},
   "source": [
    "As you can see there are some unrealistic negative values, which are also need to be handled"
   ]
  },
  {
   "cell_type": "code",
   "execution_count": 5,
   "id": "f2411e88",
   "metadata": {},
   "outputs": [
    {
     "name": "stdout",
     "output_type": "stream",
     "text": [
      "Amount of temperature values under -100°C: 687\n"
     ]
    }
   ],
   "source": [
    "print('Amount of temperature values under -100°C:', data['celsius'].isna().sum())"
   ]
  },
  {
   "cell_type": "markdown",
   "id": "22742a1f",
   "metadata": {},
   "source": [
    "#### Now we want to perform the data preprocessing for the temperature values under -100°C\n",
    "As the amount of rows is big, it is not the best solution to drop all of them, because we will lose some amount of significant information. Finding the mean values and replacing the NaN values with them can also cause evaluation of incorrect values, because the temperature is different based on the season and if we just take the mean value for each sensor, we would still have data degradation in our dataframe. Therefore, in this case the optimal solution would be to use `linear interpolation`, because data exhibits gradual changes between consecutive data points and the temperature doesn't change drastically in a short period of time."
   ]
  },
  {
   "cell_type": "code",
   "execution_count": 6,
   "id": "d409ba28",
   "metadata": {},
   "outputs": [
    {
     "name": "stdout",
     "output_type": "stream",
     "text": [
      "Amount of temperature values under -100°C: 0\n"
     ]
    }
   ],
   "source": [
    "data['celsius'].interpolate(inplace=True)\n",
    "print('Amount of temperature values under -100°C:', data['celsius'].isna().sum())"
   ]
  },
  {
   "cell_type": "markdown",
   "id": "6ba3e32d-2f4a-4621-8866-226fdb648e7e",
   "metadata": {},
   "source": [
    "## 3 Visualize the data \n",
    "\n",
    "Perform Visualizations for different types of diagrams using either\n",
    "\n",
    "1. matpolotlib/seaborn\n",
    "2. plotly\n",
    "\n",
    "**Important Hint**: Check the total volume of data points first. If needed create a digestible subset. Keep in mind, that visualizing large volumes of data points (i.e. > 10e5) can significantly slow down the notebook. Too many datapoints might even crash the browser, due to limited RAM availability for a browser tab in all common browsers."
   ]
  },
  {
   "cell_type": "markdown",
   "id": "c567494b",
   "metadata": {},
   "source": [
    "We want to first check how many data points are there and if there are significant amount of data points, which can slow down the browser, we will create an aggregated values of the data points"
   ]
  },
  {
   "cell_type": "code",
   "execution_count": 7,
   "id": "bc8fa9d3-78eb-4b57-84af-5f831996ef15",
   "metadata": {},
   "outputs": [
    {
     "data": {
      "text/plain": [
       "(1603788, 6)"
      ]
     },
     "execution_count": 7,
     "metadata": {},
     "output_type": "execute_result"
    }
   ],
   "source": [
    "data.shape"
   ]
  },
  {
   "cell_type": "markdown",
   "id": "b96a0ea5",
   "metadata": {},
   "source": [
    "Let's see, what we can show by visualizing the `Humidity`/`Pressure` relationship using a scatter plot"
   ]
  },
  {
   "cell_type": "code",
   "execution_count": 25,
   "id": "a762fbf1",
   "metadata": {},
   "outputs": [
    {
     "name": "stderr",
     "output_type": "stream",
     "text": [
      "C:\\Users\\tadno\\AppData\\Local\\Temp\\ipykernel_21376\\3700684736.py:3: FutureWarning: The default value of numeric_only in DataFrameGroupBy.mean is deprecated. In a future version, numeric_only will default to False. Either specify numeric_only or select only columns which should be valid for the function.\n",
      "  aggregated_data = aggregated_data.groupby(['datetime', 'date', 'room']).mean().reset_index()\n"
     ]
    },
    {
     "data": {
      "image/png": "[encoded data removed]",
      "text/plain": [
       "<Figure size 640x480 with 1 Axes>"
      ]
     },
     "metadata": {},
     "output_type": "display_data"
    }
   ],
   "source": [
    "aggregated_data = data.copy()\n",
    "aggregated_data['date'] = aggregated_data['datetime'].dt.date\n",
    "aggregated_data = aggregated_data.groupby(['datetime', 'date', 'room']).mean().reset_index()\n",
    "aggregated_data.plot(x='humidity', y='pressure', kind='scatter', title='Humidity vs Pressure')\n",
    "plt.xlabel('Humidity')\n",
    "plt.ylabel('Pressure')\n",
    "plt.show()"
   ]
  },
  {
   "cell_type": "markdown",
   "id": "17d35566",
   "metadata": {},
   "source": [
    "We can also show a bar chart, which demonstrates an average temperature for each room"
   ]
  },
  {
   "cell_type": "code",
   "execution_count": 26,
   "id": "7957af1f",
   "metadata": {},
   "outputs": [
    {
     "data": {
      "image/png": "[encoded data removed]",
      "text/plain": [
       "<Figure size 1500x300 with 1 Axes>"
      ]
     },
     "metadata": {},
     "output_type": "display_data"
    }
   ],
   "source": [
    "mean_temp_room = aggregated_data.groupby('room')['celsius'].mean().reset_index()\n",
    "for i, col in mean_temp_room.iterrows():\n",
    "    if len(col['room']) > 5:\n",
    "        mean_temp_room.at[i, 'room'] = col['room'].replace('_', '\\n_')\n",
    "        \n",
    "plt.figure(figsize=(15, 3))\n",
    "plt.bar(mean_temp_room['room'], mean_temp_room['celsius'])\n",
    "plt.title('Mean Temperature in Rooms')\n",
    "plt.xlabel('Room')\n",
    "plt.ylabel('Mean Temperature (Celsius)')\n",
    "plt.show()"
   ]
  },
  {
   "cell_type": "markdown",
   "id": "6a3c5ba9-53cc-44d0-9c6f-670dd96dcff0",
   "metadata": {},
   "source": [
    "## 3.0 Create different table aggregations to check for \"Simposons Paradox\"\n",
    "Hints: \n",
    "* Find an appropriate aggregation of which you think, it could generate a paradox. E.g. compare an aggregation of multiple rooms with a single rooom.\n",
    "* Rooms with a '0' in the middle are on one side of the building, with a '1' on another.\n",
    "* There are also errorneous values in the data, that you might want to remove first.\n",
    "* Consider different time spans. During the winter period, many rooms a heated. During summer, the room temperatures are more influenced by the outside environmental conditions"
   ]
  },
  {
   "cell_type": "markdown",
   "id": "ec63a9ed",
   "metadata": {},
   "source": [
    "Let's prepare our dataframe to check for the Simpson's paradox. We want to check and show, if the trend appears in different groups of data but disappears or reverses when these groups are combined. For that reason we want to look at the seasonal differencies and location differencies"
   ]
  },
  {
   "cell_type": "code",
   "execution_count": 69,
   "id": "f65c24eb-e450-43d2-93a9-5961aa2f735a",
   "metadata": {},
   "outputs": [],
   "source": [
    "simpsons_df = aggregated_data.copy()\n",
    "\n",
    "simpsons_df['season'] = np.where(simpsons_df['datetime'].dt.month.isin([1, 2, 12, 11]), 'Winter', 'Summer')\n",
    "simpsons_df['building_side'] = np.where(simpsons_df['room'].str[2] == '1', 'left-side', 'right-side')\n",
    "all_mean = simpsons_df['celsius'].mean()\n",
    "room_mean = simpsons_df.groupby('room')['celsius'].mean().reset_index()\n",
    "season_mean = simpsons_df.groupby('season')['celsius'].mean().reset_index()\n",
    "room_season_mean = simpsons_df.groupby(['room', 'season'])['celsius'].mean().reset_index()\n",
    "building_side_mean = simpsons_df.groupby(['building_side', 'room'])['celsius'].mean().reset_index()"
   ]
  },
  {
   "cell_type": "code",
   "execution_count": 70,
   "id": "18b56ea5",
   "metadata": {},
   "outputs": [
    {
     "data": {
      "text/html": [
       "<div>\n",
       "<style scoped>\n",
       "    .dataframe tbody tr th:only-of-type {\n",
       "        vertical-align: middle;\n",
       "    }\n",
       "\n",
       "    .dataframe tbody tr th {\n",
       "        vertical-align: top;\n",
       "    }\n",
       "\n",
       "    .dataframe thead th {\n",
       "        text-align: right;\n",
       "    }\n",
       "</style>\n",
       "<table border=\"1\" class=\"dataframe\">\n",
       "  <thead>\n",
       "    <tr style=\"text-align: right;\">\n",
       "      <th></th>\n",
       "      <th>Overall mean temperature</th>\n",
       "    </tr>\n",
       "  </thead>\n",
       "  <tbody>\n",
       "    <tr>\n",
       "      <th>0</th>\n",
       "      <td>21.350531</td>\n",
       "    </tr>\n",
       "  </tbody>\n",
       "</table>\n",
       "</div>"
      ],
      "text/plain": [
       "   Overall mean temperature\n",
       "0                 21.350531"
      ]
     },
     "metadata": {},
     "output_type": "display_data"
    }
   ],
   "source": [
    "display(pd.DataFrame({'Overall mean temperature': [all_mean]}))"
   ]
  },
  {
   "cell_type": "markdown",
   "id": "abac2f50",
   "metadata": {},
   "source": [
    "As you can see, each room has its own average value and some of them are far from the overall value from above"
   ]
  },
  {
   "cell_type": "code",
   "execution_count": 71,
   "id": "0a076544",
   "metadata": {},
   "outputs": [
    {
     "name": "stdout",
     "output_type": "stream",
     "text": [
      "Room mean temperature: \n"
     ]
    },
    {
     "data": {
      "text/html": [
       "<div>\n",
       "<style scoped>\n",
       "    .dataframe tbody tr th:only-of-type {\n",
       "        vertical-align: middle;\n",
       "    }\n",
       "\n",
       "    .dataframe tbody tr th {\n",
       "        vertical-align: top;\n",
       "    }\n",
       "\n",
       "    .dataframe thead th {\n",
       "        text-align: right;\n",
       "    }\n",
       "</style>\n",
       "<table border=\"1\" class=\"dataframe\">\n",
       "  <thead>\n",
       "    <tr style=\"text-align: right;\">\n",
       "      <th></th>\n",
       "      <th>celsius</th>\n",
       "    </tr>\n",
       "    <tr>\n",
       "      <th>room</th>\n",
       "      <th></th>\n",
       "    </tr>\n",
       "  </thead>\n",
       "  <tbody>\n",
       "    <tr>\n",
       "      <th>H106</th>\n",
       "      <td>21.702452</td>\n",
       "    </tr>\n",
       "    <tr>\n",
       "      <th>H108</th>\n",
       "      <td>18.232045</td>\n",
       "    </tr>\n",
       "    <tr>\n",
       "      <th>H109</th>\n",
       "      <td>21.538121</td>\n",
       "    </tr>\n",
       "    <tr>\n",
       "      <th>H110</th>\n",
       "      <td>19.889164</td>\n",
       "    </tr>\n",
       "    <tr>\n",
       "      <th>H111</th>\n",
       "      <td>20.042767</td>\n",
       "    </tr>\n",
       "    <tr>\n",
       "      <th>H113</th>\n",
       "      <td>20.725524</td>\n",
       "    </tr>\n",
       "    <tr>\n",
       "      <th>H116</th>\n",
       "      <td>20.211850</td>\n",
       "    </tr>\n",
       "    <tr>\n",
       "      <th>H203</th>\n",
       "      <td>20.861892</td>\n",
       "    </tr>\n",
       "    <tr>\n",
       "      <th>H205</th>\n",
       "      <td>20.096017</td>\n",
       "    </tr>\n",
       "    <tr>\n",
       "      <th>H206</th>\n",
       "      <td>22.340451</td>\n",
       "    </tr>\n",
       "    <tr>\n",
       "      <th>H207</th>\n",
       "      <td>22.333340</td>\n",
       "    </tr>\n",
       "    <tr>\n",
       "      <th>H208</th>\n",
       "      <td>21.398223</td>\n",
       "    </tr>\n",
       "    <tr>\n",
       "      <th>H209</th>\n",
       "      <td>20.984241</td>\n",
       "    </tr>\n",
       "    <tr>\n",
       "      <th>H210</th>\n",
       "      <td>20.516762</td>\n",
       "    </tr>\n",
       "    <tr>\n",
       "      <th>H211</th>\n",
       "      <td>22.600070</td>\n",
       "    </tr>\n",
       "    <tr>\n",
       "      <th>H212</th>\n",
       "      <td>22.792584</td>\n",
       "    </tr>\n",
       "    <tr>\n",
       "      <th>H213</th>\n",
       "      <td>21.965812</td>\n",
       "    </tr>\n",
       "    <tr>\n",
       "      <th>H214</th>\n",
       "      <td>21.139245</td>\n",
       "    </tr>\n",
       "    <tr>\n",
       "      <th>H215</th>\n",
       "      <td>21.013166</td>\n",
       "    </tr>\n",
       "    <tr>\n",
       "      <th>H216</th>\n",
       "      <td>21.646196</td>\n",
       "    </tr>\n",
       "    <tr>\n",
       "      <th>H216_desk_at_window</th>\n",
       "      <td>21.106674</td>\n",
       "    </tr>\n",
       "    <tr>\n",
       "      <th>H217</th>\n",
       "      <td>21.938563</td>\n",
       "    </tr>\n",
       "    <tr>\n",
       "      <th>H218</th>\n",
       "      <td>21.407089</td>\n",
       "    </tr>\n",
       "    <tr>\n",
       "      <th>H220</th>\n",
       "      <td>22.360953</td>\n",
       "    </tr>\n",
       "    <tr>\n",
       "      <th>across_from_H207_on_railing</th>\n",
       "      <td>23.335570</td>\n",
       "    </tr>\n",
       "  </tbody>\n",
       "</table>\n",
       "</div>"
      ],
      "text/plain": [
       "                               celsius\n",
       "room                                  \n",
       "H106                         21.702452\n",
       "H108                         18.232045\n",
       "H109                         21.538121\n",
       "H110                         19.889164\n",
       "H111                         20.042767\n",
       "H113                         20.725524\n",
       "H116                         20.211850\n",
       "H203                         20.861892\n",
       "H205                         20.096017\n",
       "H206                         22.340451\n",
       "H207                         22.333340\n",
       "H208                         21.398223\n",
       "H209                         20.984241\n",
       "H210                         20.516762\n",
       "H211                         22.600070\n",
       "H212                         22.792584\n",
       "H213                         21.965812\n",
       "H214                         21.139245\n",
       "H215                         21.013166\n",
       "H216                         21.646196\n",
       "H216_desk_at_window          21.106674\n",
       "H217                         21.938563\n",
       "H218                         21.407089\n",
       "H220                         22.360953\n",
       "across_from_H207_on_railing  23.335570"
      ]
     },
     "metadata": {},
     "output_type": "display_data"
    }
   ],
   "source": [
    "room_mean.set_index('room', inplace=True)\n",
    "print('Room mean temperature: ')\n",
    "display(room_mean)"
   ]
  },
  {
   "cell_type": "markdown",
   "id": "e5c86359",
   "metadata": {},
   "source": [
    "Average seasonal temperature also differs significantly, which proves the point of Simpson's paradox"
   ]
  },
  {
   "cell_type": "code",
   "execution_count": 72,
   "id": "9a1e53e1",
   "metadata": {},
   "outputs": [
    {
     "name": "stdout",
     "output_type": "stream",
     "text": [
      "Seasonal mean temperature: \n"
     ]
    },
    {
     "data": {
      "text/html": [
       "<div>\n",
       "<style scoped>\n",
       "    .dataframe tbody tr th:only-of-type {\n",
       "        vertical-align: middle;\n",
       "    }\n",
       "\n",
       "    .dataframe tbody tr th {\n",
       "        vertical-align: top;\n",
       "    }\n",
       "\n",
       "    .dataframe thead th {\n",
       "        text-align: right;\n",
       "    }\n",
       "</style>\n",
       "<table border=\"1\" class=\"dataframe\">\n",
       "  <thead>\n",
       "    <tr style=\"text-align: right;\">\n",
       "      <th></th>\n",
       "      <th>celsius</th>\n",
       "    </tr>\n",
       "    <tr>\n",
       "      <th>season</th>\n",
       "      <th></th>\n",
       "    </tr>\n",
       "  </thead>\n",
       "  <tbody>\n",
       "    <tr>\n",
       "      <th>Summer</th>\n",
       "      <td>22.522300</td>\n",
       "    </tr>\n",
       "    <tr>\n",
       "      <th>Winter</th>\n",
       "      <td>19.515651</td>\n",
       "    </tr>\n",
       "  </tbody>\n",
       "</table>\n",
       "</div>"
      ],
      "text/plain": [
       "          celsius\n",
       "season           \n",
       "Summer  22.522300\n",
       "Winter  19.515651"
      ]
     },
     "metadata": {},
     "output_type": "display_data"
    }
   ],
   "source": [
    "season_mean.set_index('season', inplace=True)\n",
    "print('Seasonal mean temperature: ')\n",
    "display(season_mean)"
   ]
  },
  {
   "cell_type": "markdown",
   "id": "3106d6f9",
   "metadata": {},
   "source": [
    "Another property to look at is that the temperature differs not only by the season, but also depending on the room. And after combining them both, we get a clear visual prove of Simpson's paradox, what couldn't be seen in the overall estimated values"
   ]
  },
  {
   "cell_type": "code",
   "execution_count": 73,
   "id": "d8214b55",
   "metadata": {},
   "outputs": [
    {
     "name": "stdout",
     "output_type": "stream",
     "text": [
      "Room + Season mean temperature: \n"
     ]
    },
    {
     "data": {
      "text/html": [
       "<div>\n",
       "<style scoped>\n",
       "    .dataframe tbody tr th:only-of-type {\n",
       "        vertical-align: middle;\n",
       "    }\n",
       "\n",
       "    .dataframe tbody tr th {\n",
       "        vertical-align: top;\n",
       "    }\n",
       "\n",
       "    .dataframe thead th {\n",
       "        text-align: right;\n",
       "    }\n",
       "</style>\n",
       "<table border=\"1\" class=\"dataframe\">\n",
       "  <thead>\n",
       "    <tr style=\"text-align: right;\">\n",
       "      <th></th>\n",
       "      <th>season</th>\n",
       "      <th>celsius</th>\n",
       "    </tr>\n",
       "    <tr>\n",
       "      <th>room</th>\n",
       "      <th></th>\n",
       "      <th></th>\n",
       "    </tr>\n",
       "  </thead>\n",
       "  <tbody>\n",
       "    <tr>\n",
       "      <th>H106</th>\n",
       "      <td>Summer</td>\n",
       "      <td>22.571761</td>\n",
       "    </tr>\n",
       "    <tr>\n",
       "      <th>H106</th>\n",
       "      <td>Winter</td>\n",
       "      <td>20.401698</td>\n",
       "    </tr>\n",
       "    <tr>\n",
       "      <th>H108</th>\n",
       "      <td>Summer</td>\n",
       "      <td>18.869397</td>\n",
       "    </tr>\n",
       "    <tr>\n",
       "      <th>H108</th>\n",
       "      <td>Winter</td>\n",
       "      <td>16.961466</td>\n",
       "    </tr>\n",
       "    <tr>\n",
       "      <th>H109</th>\n",
       "      <td>Summer</td>\n",
       "      <td>22.021590</td>\n",
       "    </tr>\n",
       "    <tr>\n",
       "      <th>H109</th>\n",
       "      <td>Winter</td>\n",
       "      <td>20.645435</td>\n",
       "    </tr>\n",
       "    <tr>\n",
       "      <th>H110</th>\n",
       "      <td>Summer</td>\n",
       "      <td>21.313682</td>\n",
       "    </tr>\n",
       "    <tr>\n",
       "      <th>H110</th>\n",
       "      <td>Winter</td>\n",
       "      <td>17.516007</td>\n",
       "    </tr>\n",
       "    <tr>\n",
       "      <th>H111</th>\n",
       "      <td>Summer</td>\n",
       "      <td>20.937018</td>\n",
       "    </tr>\n",
       "    <tr>\n",
       "      <th>H111</th>\n",
       "      <td>Winter</td>\n",
       "      <td>18.430155</td>\n",
       "    </tr>\n",
       "    <tr>\n",
       "      <th>H113</th>\n",
       "      <td>Summer</td>\n",
       "      <td>21.920662</td>\n",
       "    </tr>\n",
       "    <tr>\n",
       "      <th>H113</th>\n",
       "      <td>Winter</td>\n",
       "      <td>18.706697</td>\n",
       "    </tr>\n",
       "    <tr>\n",
       "      <th>H116</th>\n",
       "      <td>Summer</td>\n",
       "      <td>21.642021</td>\n",
       "    </tr>\n",
       "    <tr>\n",
       "      <th>H116</th>\n",
       "      <td>Winter</td>\n",
       "      <td>20.012854</td>\n",
       "    </tr>\n",
       "    <tr>\n",
       "      <th>H203</th>\n",
       "      <td>Summer</td>\n",
       "      <td>22.616738</td>\n",
       "    </tr>\n",
       "    <tr>\n",
       "      <th>H203</th>\n",
       "      <td>Winter</td>\n",
       "      <td>18.505271</td>\n",
       "    </tr>\n",
       "    <tr>\n",
       "      <th>H205</th>\n",
       "      <td>Summer</td>\n",
       "      <td>22.000745</td>\n",
       "    </tr>\n",
       "    <tr>\n",
       "      <th>H205</th>\n",
       "      <td>Winter</td>\n",
       "      <td>17.156782</td>\n",
       "    </tr>\n",
       "    <tr>\n",
       "      <th>H206</th>\n",
       "      <td>Summer</td>\n",
       "      <td>23.703077</td>\n",
       "    </tr>\n",
       "    <tr>\n",
       "      <th>H206</th>\n",
       "      <td>Winter</td>\n",
       "      <td>20.282712</td>\n",
       "    </tr>\n",
       "    <tr>\n",
       "      <th>H207</th>\n",
       "      <td>Summer</td>\n",
       "      <td>23.415946</td>\n",
       "    </tr>\n",
       "    <tr>\n",
       "      <th>H207</th>\n",
       "      <td>Winter</td>\n",
       "      <td>20.598355</td>\n",
       "    </tr>\n",
       "    <tr>\n",
       "      <th>H208</th>\n",
       "      <td>Summer</td>\n",
       "      <td>22.745877</td>\n",
       "    </tr>\n",
       "    <tr>\n",
       "      <th>H208</th>\n",
       "      <td>Winter</td>\n",
       "      <td>19.103477</td>\n",
       "    </tr>\n",
       "    <tr>\n",
       "      <th>H209</th>\n",
       "      <td>Summer</td>\n",
       "      <td>20.697334</td>\n",
       "    </tr>\n",
       "    <tr>\n",
       "      <th>H209</th>\n",
       "      <td>Winter</td>\n",
       "      <td>21.473530</td>\n",
       "    </tr>\n",
       "    <tr>\n",
       "      <th>H210</th>\n",
       "      <td>Summer</td>\n",
       "      <td>22.457177</td>\n",
       "    </tr>\n",
       "    <tr>\n",
       "      <th>H210</th>\n",
       "      <td>Winter</td>\n",
       "      <td>17.848220</td>\n",
       "    </tr>\n",
       "    <tr>\n",
       "      <th>H211</th>\n",
       "      <td>Summer</td>\n",
       "      <td>23.677935</td>\n",
       "    </tr>\n",
       "    <tr>\n",
       "      <th>H211</th>\n",
       "      <td>Winter</td>\n",
       "      <td>20.878187</td>\n",
       "    </tr>\n",
       "    <tr>\n",
       "      <th>H212</th>\n",
       "      <td>Summer</td>\n",
       "      <td>23.602475</td>\n",
       "    </tr>\n",
       "    <tr>\n",
       "      <th>H212</th>\n",
       "      <td>Winter</td>\n",
       "      <td>21.323221</td>\n",
       "    </tr>\n",
       "    <tr>\n",
       "      <th>H213</th>\n",
       "      <td>Summer</td>\n",
       "      <td>23.399674</td>\n",
       "    </tr>\n",
       "    <tr>\n",
       "      <th>H213</th>\n",
       "      <td>Winter</td>\n",
       "      <td>19.802535</td>\n",
       "    </tr>\n",
       "    <tr>\n",
       "      <th>H214</th>\n",
       "      <td>Summer</td>\n",
       "      <td>22.982260</td>\n",
       "    </tr>\n",
       "    <tr>\n",
       "      <th>H214</th>\n",
       "      <td>Winter</td>\n",
       "      <td>18.512137</td>\n",
       "    </tr>\n",
       "    <tr>\n",
       "      <th>H215</th>\n",
       "      <td>Summer</td>\n",
       "      <td>22.804694</td>\n",
       "    </tr>\n",
       "    <tr>\n",
       "      <th>H215</th>\n",
       "      <td>Winter</td>\n",
       "      <td>18.465549</td>\n",
       "    </tr>\n",
       "    <tr>\n",
       "      <th>H216</th>\n",
       "      <td>Summer</td>\n",
       "      <td>22.736857</td>\n",
       "    </tr>\n",
       "    <tr>\n",
       "      <th>H216</th>\n",
       "      <td>Winter</td>\n",
       "      <td>20.182670</td>\n",
       "    </tr>\n",
       "    <tr>\n",
       "      <th>H216_desk_at_window</th>\n",
       "      <td>Summer</td>\n",
       "      <td>21.725565</td>\n",
       "    </tr>\n",
       "    <tr>\n",
       "      <th>H216_desk_at_window</th>\n",
       "      <td>Winter</td>\n",
       "      <td>19.915412</td>\n",
       "    </tr>\n",
       "    <tr>\n",
       "      <th>H217</th>\n",
       "      <td>Summer</td>\n",
       "      <td>22.835791</td>\n",
       "    </tr>\n",
       "    <tr>\n",
       "      <th>H217</th>\n",
       "      <td>Winter</td>\n",
       "      <td>20.624633</td>\n",
       "    </tr>\n",
       "    <tr>\n",
       "      <th>H218</th>\n",
       "      <td>Summer</td>\n",
       "      <td>22.827236</td>\n",
       "    </tr>\n",
       "    <tr>\n",
       "      <th>H218</th>\n",
       "      <td>Winter</td>\n",
       "      <td>18.985114</td>\n",
       "    </tr>\n",
       "    <tr>\n",
       "      <th>H220</th>\n",
       "      <td>Summer</td>\n",
       "      <td>23.497152</td>\n",
       "    </tr>\n",
       "    <tr>\n",
       "      <th>H220</th>\n",
       "      <td>Winter</td>\n",
       "      <td>20.660824</td>\n",
       "    </tr>\n",
       "    <tr>\n",
       "      <th>across_from_H207_on_railing</th>\n",
       "      <td>Summer</td>\n",
       "      <td>24.537499</td>\n",
       "    </tr>\n",
       "    <tr>\n",
       "      <th>across_from_H207_on_railing</th>\n",
       "      <td>Winter</td>\n",
       "      <td>21.533277</td>\n",
       "    </tr>\n",
       "  </tbody>\n",
       "</table>\n",
       "</div>"
      ],
      "text/plain": [
       "                             season    celsius\n",
       "room                                          \n",
       "H106                         Summer  22.571761\n",
       "H106                         Winter  20.401698\n",
       "H108                         Summer  18.869397\n",
       "H108                         Winter  16.961466\n",
       "H109                         Summer  22.021590\n",
       "H109                         Winter  20.645435\n",
       "H110                         Summer  21.313682\n",
       "H110                         Winter  17.516007\n",
       "H111                         Summer  20.937018\n",
       "H111                         Winter  18.430155\n",
       "H113                         Summer  21.920662\n",
       "H113                         Winter  18.706697\n",
       "H116                         Summer  21.642021\n",
       "H116                         Winter  20.012854\n",
       "H203                         Summer  22.616738\n",
       "H203                         Winter  18.505271\n",
       "H205                         Summer  22.000745\n",
       "H205                         Winter  17.156782\n",
       "H206                         Summer  23.703077\n",
       "H206                         Winter  20.282712\n",
       "H207                         Summer  23.415946\n",
       "H207                         Winter  20.598355\n",
       "H208                         Summer  22.745877\n",
       "H208                         Winter  19.103477\n",
       "H209                         Summer  20.697334\n",
       "H209                         Winter  21.473530\n",
       "H210                         Summer  22.457177\n",
       "H210                         Winter  17.848220\n",
       "H211                         Summer  23.677935\n",
       "H211                         Winter  20.878187\n",
       "H212                         Summer  23.602475\n",
       "H212                         Winter  21.323221\n",
       "H213                         Summer  23.399674\n",
       "H213                         Winter  19.802535\n",
       "H214                         Summer  22.982260\n",
       "H214                         Winter  18.512137\n",
       "H215                         Summer  22.804694\n",
       "H215                         Winter  18.465549\n",
       "H216                         Summer  22.736857\n",
       "H216                         Winter  20.182670\n",
       "H216_desk_at_window          Summer  21.725565\n",
       "H216_desk_at_window          Winter  19.915412\n",
       "H217                         Summer  22.835791\n",
       "H217                         Winter  20.624633\n",
       "H218                         Summer  22.827236\n",
       "H218                         Winter  18.985114\n",
       "H220                         Summer  23.497152\n",
       "H220                         Winter  20.660824\n",
       "across_from_H207_on_railing  Summer  24.537499\n",
       "across_from_H207_on_railing  Winter  21.533277"
      ]
     },
     "metadata": {},
     "output_type": "display_data"
    }
   ],
   "source": [
    "room_season_mean.set_index('room', inplace=True)\n",
    "print('Room + Season mean temperature: ')\n",
    "display(room_season_mean)"
   ]
  },
  {
   "cell_type": "markdown",
   "id": "4875d5e7",
   "metadata": {},
   "source": [
    "We don't see any special differences between one or the other side of the building, as temperatures are stable and similar in both sides of the building"
   ]
  },
  {
   "cell_type": "code",
   "execution_count": 74,
   "id": "2e9fa0f2",
   "metadata": {},
   "outputs": [
    {
     "name": "stdout",
     "output_type": "stream",
     "text": [
      "Building side mean: \n"
     ]
    },
    {
     "data": {
      "text/html": [
       "<div>\n",
       "<style scoped>\n",
       "    .dataframe tbody tr th:only-of-type {\n",
       "        vertical-align: middle;\n",
       "    }\n",
       "\n",
       "    .dataframe tbody tr th {\n",
       "        vertical-align: top;\n",
       "    }\n",
       "\n",
       "    .dataframe thead th {\n",
       "        text-align: right;\n",
       "    }\n",
       "</style>\n",
       "<table border=\"1\" class=\"dataframe\">\n",
       "  <thead>\n",
       "    <tr style=\"text-align: right;\">\n",
       "      <th></th>\n",
       "      <th>building_side</th>\n",
       "      <th>celsius</th>\n",
       "    </tr>\n",
       "    <tr>\n",
       "      <th>room</th>\n",
       "      <th></th>\n",
       "      <th></th>\n",
       "    </tr>\n",
       "  </thead>\n",
       "  <tbody>\n",
       "    <tr>\n",
       "      <th>H110</th>\n",
       "      <td>left-side</td>\n",
       "      <td>19.889164</td>\n",
       "    </tr>\n",
       "    <tr>\n",
       "      <th>H111</th>\n",
       "      <td>left-side</td>\n",
       "      <td>20.042767</td>\n",
       "    </tr>\n",
       "    <tr>\n",
       "      <th>H113</th>\n",
       "      <td>left-side</td>\n",
       "      <td>20.725524</td>\n",
       "    </tr>\n",
       "    <tr>\n",
       "      <th>H116</th>\n",
       "      <td>left-side</td>\n",
       "      <td>20.211850</td>\n",
       "    </tr>\n",
       "    <tr>\n",
       "      <th>H210</th>\n",
       "      <td>left-side</td>\n",
       "      <td>20.516762</td>\n",
       "    </tr>\n",
       "    <tr>\n",
       "      <th>H211</th>\n",
       "      <td>left-side</td>\n",
       "      <td>22.600070</td>\n",
       "    </tr>\n",
       "    <tr>\n",
       "      <th>H212</th>\n",
       "      <td>left-side</td>\n",
       "      <td>22.792584</td>\n",
       "    </tr>\n",
       "    <tr>\n",
       "      <th>H213</th>\n",
       "      <td>left-side</td>\n",
       "      <td>21.965812</td>\n",
       "    </tr>\n",
       "    <tr>\n",
       "      <th>H214</th>\n",
       "      <td>left-side</td>\n",
       "      <td>21.139245</td>\n",
       "    </tr>\n",
       "    <tr>\n",
       "      <th>H215</th>\n",
       "      <td>left-side</td>\n",
       "      <td>21.013166</td>\n",
       "    </tr>\n",
       "    <tr>\n",
       "      <th>H216</th>\n",
       "      <td>left-side</td>\n",
       "      <td>21.646196</td>\n",
       "    </tr>\n",
       "    <tr>\n",
       "      <th>H216_desk_at_window</th>\n",
       "      <td>left-side</td>\n",
       "      <td>21.106674</td>\n",
       "    </tr>\n",
       "    <tr>\n",
       "      <th>H217</th>\n",
       "      <td>left-side</td>\n",
       "      <td>21.938563</td>\n",
       "    </tr>\n",
       "    <tr>\n",
       "      <th>H218</th>\n",
       "      <td>left-side</td>\n",
       "      <td>21.407089</td>\n",
       "    </tr>\n",
       "    <tr>\n",
       "      <th>H106</th>\n",
       "      <td>right-side</td>\n",
       "      <td>21.702452</td>\n",
       "    </tr>\n",
       "    <tr>\n",
       "      <th>H108</th>\n",
       "      <td>right-side</td>\n",
       "      <td>18.232045</td>\n",
       "    </tr>\n",
       "    <tr>\n",
       "      <th>H109</th>\n",
       "      <td>right-side</td>\n",
       "      <td>21.538121</td>\n",
       "    </tr>\n",
       "    <tr>\n",
       "      <th>H203</th>\n",
       "      <td>right-side</td>\n",
       "      <td>20.861892</td>\n",
       "    </tr>\n",
       "    <tr>\n",
       "      <th>H205</th>\n",
       "      <td>right-side</td>\n",
       "      <td>20.096017</td>\n",
       "    </tr>\n",
       "    <tr>\n",
       "      <th>H206</th>\n",
       "      <td>right-side</td>\n",
       "      <td>22.340451</td>\n",
       "    </tr>\n",
       "    <tr>\n",
       "      <th>H207</th>\n",
       "      <td>right-side</td>\n",
       "      <td>22.333340</td>\n",
       "    </tr>\n",
       "    <tr>\n",
       "      <th>H208</th>\n",
       "      <td>right-side</td>\n",
       "      <td>21.398223</td>\n",
       "    </tr>\n",
       "    <tr>\n",
       "      <th>H209</th>\n",
       "      <td>right-side</td>\n",
       "      <td>20.984241</td>\n",
       "    </tr>\n",
       "    <tr>\n",
       "      <th>H220</th>\n",
       "      <td>right-side</td>\n",
       "      <td>22.360953</td>\n",
       "    </tr>\n",
       "    <tr>\n",
       "      <th>across_from_H207_on_railing</th>\n",
       "      <td>right-side</td>\n",
       "      <td>23.335570</td>\n",
       "    </tr>\n",
       "  </tbody>\n",
       "</table>\n",
       "</div>"
      ],
      "text/plain": [
       "                            building_side    celsius\n",
       "room                                                \n",
       "H110                            left-side  19.889164\n",
       "H111                            left-side  20.042767\n",
       "H113                            left-side  20.725524\n",
       "H116                            left-side  20.211850\n",
       "H210                            left-side  20.516762\n",
       "H211                            left-side  22.600070\n",
       "H212                            left-side  22.792584\n",
       "H213                            left-side  21.965812\n",
       "H214                            left-side  21.139245\n",
       "H215                            left-side  21.013166\n",
       "H216                            left-side  21.646196\n",
       "H216_desk_at_window             left-side  21.106674\n",
       "H217                            left-side  21.938563\n",
       "H218                            left-side  21.407089\n",
       "H106                           right-side  21.702452\n",
       "H108                           right-side  18.232045\n",
       "H109                           right-side  21.538121\n",
       "H203                           right-side  20.861892\n",
       "H205                           right-side  20.096017\n",
       "H206                           right-side  22.340451\n",
       "H207                           right-side  22.333340\n",
       "H208                           right-side  21.398223\n",
       "H209                           right-side  20.984241\n",
       "H220                           right-side  22.360953\n",
       "across_from_H207_on_railing    right-side  23.335570"
      ]
     },
     "metadata": {},
     "output_type": "display_data"
    }
   ],
   "source": [
    "building_side_mean.set_index('room', inplace=True)\n",
    "print('Building side mean: ')\n",
    "display(building_side_mean)"
   ]
  },
  {
   "cell_type": "markdown",
   "id": "2f09f83f-20e7-44e4-b74e-4e43a5867e3a",
   "metadata": {},
   "source": [
    "## 3.1 Create a graph over time\n",
    "Use the line or scatter graphs to check for simpsons paradox.\n",
    "What is the difference in the perception of the data when using line graphs compared to scatter graphs? Think about missing data!"
   ]
  },
  {
   "cell_type": "markdown",
   "id": "e69cffe4",
   "metadata": {},
   "source": [
    "The following is the temperature development throughout the entire time. As you can see, we can't see any specific trend of the temperature change in a particular room"
   ]
  },
  {
   "cell_type": "code",
   "execution_count": 75,
   "id": "40f19d17",
   "metadata": {},
   "outputs": [
    {
     "data": {
      "image/png": "[encoded data removed]",
      "text/plain": [
       "<Figure size 640x480 with 1 Axes>"
      ]
     },
     "metadata": {},
     "output_type": "display_data"
    }
   ],
   "source": [
    "simpsons_df.plot(x='date', y='celsius', kind='line', title='Temperature Over Time')\n",
    "plt.xlabel('Datetime')\n",
    "plt.ylabel('Temperature (Celsius)')\n",
    "plt.show()"
   ]
  },
  {
   "cell_type": "markdown",
   "id": "1fab6edb",
   "metadata": {},
   "source": [
    "Here you can see a scatter matrix of `temperature`, `humidity` and `pressure` and their relationship to each other"
   ]
  },
  {
   "cell_type": "code",
   "execution_count": 79,
   "id": "e4f6a006-1ce2-43d8-b2ba-57d1cea28501",
   "metadata": {},
   "outputs": [
    {
     "name": "stderr",
     "output_type": "stream",
     "text": [
      "C:\\Users\\tadno\\AppData\\Local\\Temp\\ipykernel_21376\\11916610.py:1: FutureWarning:\n",
      "\n",
      "The default value of numeric_only in DataFrameGroupBy.mean is deprecated. In a future version, numeric_only will default to False. Either specify numeric_only or select only columns which should be valid for the function.\n",
      "\n"
     ]
    },
    {
     "data": {
      "image/png": "[encoded data removed]",
      "text/plain": [
       "<Figure size 862.875x750 with 12 Axes>"
      ]
     },
     "metadata": {},
     "output_type": "display_data"
    }
   ],
   "source": [
    "graph_over_time_season = simpsons_df.groupby(['date', 'season']).mean().reset_index()\n",
    "sns.pairplot(data=graph_over_time_season, hue='season')\n",
    "plt.show()"
   ]
  },
  {
   "cell_type": "markdown",
   "id": "a28b9ac6",
   "metadata": {},
   "source": [
    "As you can see there is not a big difference in temperatures in either side of the building"
   ]
  },
  {
   "cell_type": "code",
   "execution_count": 80,
   "id": "acd8816a",
   "metadata": {},
   "outputs": [
    {
     "name": "stderr",
     "output_type": "stream",
     "text": [
      "C:\\Users\\tadno\\AppData\\Local\\Temp\\ipykernel_21376\\2244063662.py:1: FutureWarning:\n",
      "\n",
      "The default value of numeric_only in DataFrameGroupBy.mean is deprecated. In a future version, numeric_only will default to False. Either specify numeric_only or select only columns which should be valid for the function.\n",
      "\n"
     ]
    },
    {
     "data": {
      "image/png": "[encoded data removed]",
      "text/plain": [
       "<Figure size 867.875x750 with 12 Axes>"
      ]
     },
     "metadata": {},
     "output_type": "display_data"
    }
   ],
   "source": [
    "graph_over_time_location = simpsons_df.groupby(['date', 'building_side']).mean().reset_index()\n",
    "sns.pairplot(data=graph_over_time_location, hue='building_side')\n",
    "plt.show()"
   ]
  },
  {
   "cell_type": "markdown",
   "id": "07aeb7a3-9453-42ae-9fd2-dc1cf9144733",
   "metadata": {},
   "source": [
    "## 3.2 Create a 2D and 3D scatterplot for the environmental data"
   ]
  },
  {
   "cell_type": "code",
   "execution_count": 81,
   "id": "e8b48d0b-3ca7-49f2-a928-be7b3b57b44d",
   "metadata": {},
   "outputs": [
    {
     "data": {
      "application/vnd.plotly.v1+json": {
       "config": {
        "plotlyServerURL": "https://plot.ly"
       },
       "data": [
        {
         "hovertemplate": "season=Summer<br>date=%{x}<br>celsius=%{y}<extra></extra>",
         "legendgroup": "Summer",
         "marker": {
          "color": "#636efa",
          "symbol": "circle"
         },
         "mode": "markers",
         "name": "Summer",
         "orientation": "v",
         "showlegend": true,
         "type": "scatter",
         "x": [
          "2020-09-25",
          "2020-09-28",
          "2020-09-29",
          "2020-09-30",
          "2020-10-01",
          "2020-10-02",
          "2020-10-05",
          "2020-10-06",
          "2020-10-07",
          "2020-10-12",
          "2020-10-13",
          "2020-10-14",
          "2020-10-15",
          "2020-10-17",
          "2020-10-18",
          "2020-10-19",
          "2020-10-20",
          "2020-10-21",
          "2020-10-22",
          "2020-10-23",
          "2020-10-24",
          "2020-10-25",
          "2020-10-26",
          "2020-10-27",
          "2020-10-28",
          "2020-10-29",
          "2020-10-30",
          "2020-10-31",
          "2021-03-01",
          "2021-03-02",
          "2021-03-03",
          "2021-03-04",
          "2021-03-05",
          "2021-03-06",
          "2021-03-07",
          "2021-03-08",
          "2021-03-09",
          "2021-03-10",
          "2021-03-11",
          "2021-03-12",
          "2021-03-13",
          "2021-03-14",
          "2021-03-15",
          "2021-03-16",
          "2021-03-17",
          "2021-03-18",
          "2021-03-19",
          "2021-03-20",
          "2021-03-21",
          "2021-03-22",
          "2021-03-23",
          "2021-03-24",
          "2021-03-25",
          "2021-03-26",
          "2021-03-27",
          "2021-03-28",
          "2021-03-29",
          "2021-03-30",
          "2021-03-31",
          "2021-04-01",
          "2021-04-02",
          "2021-04-03",
          "2021-04-04",
          "2021-04-05",
          "2021-04-06",
          "2021-04-07",
          "2021-04-08",
          "2021-04-09",
          "2021-04-10",
          "2021-04-11",
          "2021-04-12",
          "2021-04-13",
          "2021-04-14",
          "2021-04-15",
          "2021-04-16",
          "2021-04-17",
          "2021-04-18",
          "2021-04-19",
          "2021-04-20",
          "2021-04-21",
          "2021-04-22",
          "2021-04-23",
          "2021-04-24",
          "2021-04-25",
          "2021-04-26",
          "2021-04-27",
          "2021-04-28",
          "2021-04-29",
          "2021-04-30",
          "2021-05-01",
          "2021-05-02",
          "2021-05-03",
          "2021-05-04",
          "2021-05-05",
          "2021-05-06",
          "2021-05-07",
          "2021-05-08",
          "2021-05-09",
          "2021-05-10",
          "2021-05-11",
          "2021-05-12",
          "2021-05-13",
          "2021-05-14",
          "2021-05-15",
          "2021-05-16",
          "2021-05-17",
          "2021-05-18",
          "2021-05-19",
          "2021-05-20",
          "2021-05-21",
          "2021-05-22",
          "2021-05-23",
          "2021-05-24",
          "2021-05-25",
          "2021-05-26",
          "2021-05-27",
          "2021-05-28",
          "2021-05-29",
          "2021-05-30",
          "2021-05-31",
          "2021-06-01",
          "2021-06-02",
          "2021-06-03",
          "2021-06-04",
          "2021-06-05",
          "2021-06-06",
          "2021-06-07",
          "2021-06-08",
          "2021-06-09",
          "2021-06-10",
          "2021-06-11",
          "2021-06-12",
          "2021-06-13",
          "2021-06-14",
          "2021-06-15",
          "2021-06-16",
          "2021-06-17",
          "2021-06-18",
          "2021-06-19",
          "2021-06-20",
          "2021-06-21",
          "2021-06-22",
          "2021-06-23",
          "2021-06-24",
          "2021-06-25",
          "2021-06-26",
          "2021-06-27",
          "2021-06-28",
          "2021-06-29",
          "2021-06-30",
          "2021-07-01",
          "2021-07-02",
          "2021-07-03",
          "2021-07-04",
          "2021-07-05",
          "2021-07-06",
          "2021-07-07",
          "2021-07-08",
          "2021-07-09",
          "2021-07-10",
          "2021-07-11",
          "2021-07-12",
          "2021-07-13",
          "2021-07-14",
          "2021-07-15",
          "2021-07-16",
          "2021-07-17",
          "2021-07-18",
          "2021-07-19",
          "2021-07-20",
          "2021-07-21",
          "2021-07-22",
          "2021-07-23",
          "2021-07-24",
          "2021-07-25",
          "2021-07-26",
          "2021-07-27",
          "2021-07-28",
          "2021-07-29",
          "2021-07-30",
          "2021-07-31",
          "2021-08-01",
          "2021-08-02",
          "2021-08-03",
          "2021-08-04",
          "2021-08-05",
          "2021-08-06",
          "2021-08-07",
          "2021-08-08",
          "2021-08-09",
          "2021-08-10",
          "2021-08-11",
          "2021-08-12",
          "2021-08-13",
          "2021-08-14",
          "2021-08-15",
          "2021-08-16",
          "2021-08-17",
          "2021-08-18",
          "2021-08-19",
          "2021-08-20",
          "2021-08-21",
          "2021-08-22",
          "2021-08-23",
          "2021-08-24",
          "2021-08-25",
          "2021-08-26",
          "2021-08-27",
          "2021-08-28",
          "2021-08-29",
          "2021-08-30",
          "2021-08-31",
          "2021-09-01",
          "2021-09-02",
          "2021-09-03",
          "2021-09-04",
          "2021-09-05",
          "2021-09-06",
          "2021-09-07"
         ],
         "xaxis": "x",
         "y": [
          23.92168,
          21.740979385185184,
          22.25397396470588,
          23.550425366666666,
          21.840884021459228,
          21.6014863836858,
          20.70385074506579,
          20.748690823665896,
          21.268596873353598,
          20.262263817232377,
          20.542709347588424,
          20.604826958179906,
          18.197174966244727,
          17.86716850561798,
          17.442761452054796,
          20.476831459646213,
          20.234754796992483,
          20.64050768042453,
          21.112512604316546,
          20.95779131358885,
          20.272681745704467,
          19.682611432343236,
          20.77553674860465,
          20.824428494138335,
          19.80318863240418,
          19.323531549565217,
          20.208289919931858,
          20.386699436521738,
          20.683238858882415,
          20.82013446208217,
          20.96522925427225,
          20.44331057474227,
          20.439927305580095,
          19.89720500544598,
          19.618111311819252,
          19.75718682344279,
          19.480748620309054,
          19.50120769636551,
          19.767252330929956,
          19.870905837038126,
          19.63240868727005,
          19.419183899043414,
          19.702560830267807,
          19.594645107064018,
          19.386469241719418,
          19.662824573289182,
          19.790700644455896,
          19.983899132043547,
          19.576991090567983,
          19.539549355344523,
          19.965946650073747,
          20.365014721346494,
          20.393839219154888,
          20.79520151215022,
          20.53161731117491,
          20.86913907318384,
          21.50305579407866,
          21.829746988068937,
          22.504761816794453,
          23.03432030246176,
          21.708090126915145,
          21.442419580338736,
          21.08105484911635,
          20.371287262627007,
          19.91501618761036,
          19.295671006222822,
          19.932314087576685,
          20.242477404739994,
          20.01825197384167,
          19.755655876188285,
          19.803085061944188,
          19.969558309402224,
          19.489827544973544,
          20.767655129352423,
          20.177783047167033,
          20.526293496171967,
          20.412322783747978,
          20.57789663826343,
          21.082879232140225,
          21.33987893681885,
          21.216073220430104,
          21.542177340209225,
          21.5914494804066,
          21.464175976744187,
          21.71729288211023,
          22.016489749373804,
          21.966876493886268,
          21.53360721921944,
          21.095997185133342,
          21.496717018259464,
          21.384907723236637,
          21.61281181952837,
          21.479755557454332,
          21.262646669320358,
          21.102574009133765,
          20.93141004475195,
          20.98550179089972,
          22.51914073724565,
          22.74125884295816,
          22.273362101579803,
          22.695699643057193,
          22.50425561965812,
          22.66350349822826,
          22.495956845348665,
          22.515186837459474,
          22.29670332138643,
          21.741527298378138,
          21.87402320751762,
          22.10769630094044,
          22.581532108457324,
          21.64161332719436,
          21.839668456538764,
          21.724017323540934,
          21.018978039138943,
          20.848363132784957,
          20.685553953461085,
          21.764028610458283,
          22.774322554488435,
          23.55036850685468,
          24.162657269623235,
          24.75589593958415,
          25.57015304356358,
          25.434115437769925,
          25.432762311568627,
          24.30547870439388,
          23.541394160784314,
          23.928736279106232,
          24.812836481161696,
          25.440125766875983,
          26.212526258045525,
          26.688075978389,
          26.49940502080063,
          26.340825975255303,
          26.623689838050314,
          26.999422110936273,
          27.604861433687525,
          28.631167582547167,
          29.191491326779396,
          29.496482083464567,
          29.550629871804954,
          27.376320155206287,
          25.851264928122543,
          24.624923224577934,
          24.99397761592301,
          25.672062957226018,
          26.75995069511269,
          27.002250989102887,
          26.804668007092197,
          26.479110519523328,
          25.04454722672065,
          24.11956871299903,
          24.471746740184482,
          25.43451759881657,
          25.507085028402365,
          24.640497651844843,
          24.91762627404074,
          25.259365191051135,
          24.860995405398832,
          24.82313587937559,
          25.084256844260356,
          24.941897282233263,
          25.271742503786086,
          24.33694506674556,
          23.328601110822305,
          22.873604364625205,
          22.77137940153664,
          23.438562200401986,
          24.969548244612835,
          25.138395174077576,
          25.273803322679925,
          25.82245616485078,
          26.121013065371862,
          26.42953891615348,
          25.715119627130683,
          26.292516964471815,
          26.517906028889414,
          26.26822832946471,
          26.394860395260665,
          26.311389516995483,
          26.54697440464345,
          26.24542838290315,
          25.695491431344696,
          25.088046925714288,
          24.031473529868116,
          24.567828910456587,
          24.710199128459898,
          24.655040468372423,
          24.647136415089875,
          24.72769718637654,
          24.4908084066714,
          24.356445814630682,
          24.859629862786846,
          25.370019335386072,
          25.744949036123995,
          26.644813915443038,
          27.05344159224531,
          25.691290763544302,
          23.91614039220648,
          23.347218321279332,
          22.907684614615988,
          23.185978304126984,
          23.97517116177149,
          23.925465906370505,
          23.40266407973243,
          23.803330884266376,
          24.10957100853321,
          23.396627069209472,
          22.950369413133643,
          22.581835483422868,
          21.91404606565812,
          21.784499959459463,
          22.01642584959035,
          21.83818825025792,
          22.77411276909466,
          23.6202939406167,
          24.031295619943904,
          24.635505872528768,
          24.952162134819844,
          24.46378019081272
         ],
         "yaxis": "y"
        },
        {
         "hovertemplate": "season=Winter<br>date=%{x}<br>celsius=%{y}<extra></extra>",
         "legendgroup": "Winter",
         "marker": {
          "color": "#EF553B",
          "symbol": "circle"
         },
         "mode": "markers",
         "name": "Winter",
         "orientation": "v",
         "showlegend": true,
         "type": "scatter",
         "x": [
          "2020-11-01",
          "2020-11-02",
          "2020-11-03",
          "2020-11-04",
          "2020-11-05",
          "2020-11-06",
          "2020-11-07",
          "2020-11-08",
          "2020-11-09",
          "2020-11-10",
          "2020-11-11",
          "2020-11-12",
          "2020-11-13",
          "2020-11-14",
          "2020-11-16",
          "2020-11-17",
          "2020-11-18",
          "2020-11-19",
          "2020-11-20",
          "2020-11-21",
          "2020-11-22",
          "2020-11-23",
          "2020-11-24",
          "2020-11-25",
          "2020-11-26",
          "2020-11-27",
          "2020-11-28",
          "2020-11-29",
          "2020-11-30",
          "2020-12-01",
          "2020-12-02",
          "2020-12-03",
          "2020-12-04",
          "2020-12-05",
          "2020-12-06",
          "2020-12-07",
          "2020-12-08",
          "2020-12-09",
          "2020-12-10",
          "2020-12-11",
          "2020-12-12",
          "2020-12-13",
          "2020-12-14",
          "2020-12-15",
          "2020-12-16",
          "2020-12-17",
          "2020-12-18",
          "2020-12-19",
          "2020-12-20",
          "2020-12-21",
          "2020-12-22",
          "2020-12-23",
          "2020-12-24",
          "2020-12-25",
          "2020-12-26",
          "2020-12-27",
          "2020-12-28",
          "2020-12-29",
          "2020-12-30",
          "2020-12-31",
          "2021-01-01",
          "2021-01-02",
          "2021-01-03",
          "2021-01-04",
          "2021-01-05",
          "2021-01-06",
          "2021-01-07",
          "2021-01-08",
          "2021-01-09",
          "2021-01-10",
          "2021-01-11",
          "2021-01-12",
          "2021-01-13",
          "2021-01-14",
          "2021-01-15",
          "2021-01-16",
          "2021-01-17",
          "2021-01-18",
          "2021-01-19",
          "2021-01-20",
          "2021-01-21",
          "2021-01-22",
          "2021-01-23",
          "2021-01-24",
          "2021-01-25",
          "2021-01-26",
          "2021-01-27",
          "2021-01-28",
          "2021-01-29",
          "2021-01-30",
          "2021-01-31",
          "2021-02-01",
          "2021-02-02",
          "2021-02-03",
          "2021-02-04",
          "2021-02-05",
          "2021-02-06",
          "2021-02-07",
          "2021-02-08",
          "2021-02-09",
          "2021-02-10",
          "2021-02-11",
          "2021-02-12",
          "2021-02-13",
          "2021-02-14",
          "2021-02-15",
          "2021-02-16",
          "2021-02-17",
          "2021-02-18",
          "2021-02-19",
          "2021-02-20",
          "2021-02-21",
          "2021-02-22",
          "2021-02-23",
          "2021-02-24",
          "2021-02-25",
          "2021-02-26",
          "2021-02-27",
          "2021-02-28"
         ],
         "xaxis": "x",
         "y": [
          20.20940187652174,
          20.966362151515153,
          20.679301314586993,
          20.160020074782608,
          19.26782167826087,
          21.352184159857906,
          19.610095450638795,
          19.32946157491289,
          20.02526233838973,
          20.72800024622532,
          20.90124801976744,
          20.498819373255813,
          20.572979639960433,
          20.18822725531915,
          20.741730513274337,
          20.57355263773148,
          20.469732379310344,
          20.100922549295774,
          20.459143109589043,
          19.831238330088496,
          19.63745437815126,
          20.114797414749386,
          19.60856795283019,
          20.18251862653563,
          20.258863533372594,
          20.53038321524347,
          20.354554229573854,
          19.856312974346565,
          19.809210574598072,
          20.567352370103617,
          20.54447888885619,
          20.6165309408284,
          20.471293927093843,
          20.217861833137288,
          19.971232826945705,
          20.234206844940868,
          20.300111632087326,
          20.145799661164006,
          20.07554804970805,
          19.59496755621346,
          19.303284730644688,
          19.370523733706047,
          19.942066995006513,
          20.163860796183744,
          19.87035427843719,
          19.984946497668833,
          19.938321516855655,
          19.522845488714513,
          19.296845935108447,
          18.968675228422356,
          18.99284774329806,
          19.015112398677246,
          18.776190897232507,
          18.616143699188424,
          18.49723278366232,
          18.164571353138225,
          18.103843678004935,
          17.9949975,
          17.968739366696035,
          17.788812771806167,
          17.847529082407895,
          17.70856755049435,
          17.519576263421932,
          18.474246750078816,
          19.255821216285927,
          19.418116319878983,
          19.38144115647059,
          19.46228332184923,
          18.751728763987042,
          18.631114577987052,
          19.070537810403177,
          19.325664440994704,
          18.99624145263313,
          19.00375163749813,
          19.306941759329202,
          19.431199445564218,
          19.39305375320088,
          19.79398848307081,
          19.615796241833433,
          19.729417092535336,
          19.818685647305657,
          19.975753232999708,
          19.65524942228437,
          19.361772906737276,
          19.32317680103017,
          19.33411646271736,
          19.100885414851337,
          19.124012284905106,
          19.51444368577104,
          19.112793923642784,
          18.917700842922308,
          19.276768821233986,
          19.410728125625184,
          19.283096091450854,
          19.46345636957481,
          19.86342107918752,
          19.802365524808597,
          19.23624571365509,
          18.85547248609885,
          18.57631897240618,
          18.394311261540746,
          18.69953812362112,
          18.781851893656167,
          18.792032739882266,
          19.040689477794118,
          18.983733875643857,
          19.487134183242606,
          20.016694654265507,
          20.14525907215432,
          20.30030656283108,
          20.35227464995583,
          20.682834496908125,
          20.76128213468336,
          21.05865161531664,
          21.413601056783033,
          21.434223667844524,
          21.124582645044377,
          20.459446760297045,
          20.61836094920976
         ],
         "yaxis": "y"
        }
       ],
       "layout": {
        "legend": {
         "title": {
          "text": "season"
         },
         "tracegroupgap": 0
        },
        "template": {
         "data": {
          "bar": [
           {
            "error_x": {
             "color": "#2a3f5f"
            },
            "error_y": {
             "color": "#2a3f5f"
            },
            "marker": {
             "line": {
              "color": "#E5ECF6",
              "width": 0.5
             },
             "pattern": {
              "fillmode": "overlay",
              "size": 10,
              "solidity": 0.2
             }
            },
            "type": "bar"
           }
          ],
          "barpolar": [
           {
            "marker": {
             "line": {
              "color": "#E5ECF6",
              "width": 0.5
             },
             "pattern": {
              "fillmode": "overlay",
              "size": 10,
              "solidity": 0.2
             }
            },
            "type": "barpolar"
           }
          ],
          "carpet": [
           {
            "aaxis": {
             "endlinecolor": "#2a3f5f",
             "gridcolor": "white",
             "linecolor": "white",
             "minorgridcolor": "white",
             "startlinecolor": "#2a3f5f"
            },
            "baxis": {
             "endlinecolor": "#2a3f5f",
             "gridcolor": "white",
             "linecolor": "white",
             "minorgridcolor": "white",
             "startlinecolor": "#2a3f5f"
            },
            "type": "carpet"
           }
          ],
          "choropleth": [
           {
            "colorbar": {
             "outlinewidth": 0,
             "ticks": ""
            },
            "type": "choropleth"
           }
          ],
          "contour": [
           {
            "colorbar": {
             "outlinewidth": 0,
             "ticks": ""
            },
            "colorscale": [
             [
              0,
              "#0d0887"
             ],
             [
              0.1111111111111111,
              "#46039f"
             ],
             [
              0.2222222222222222,
              "#7201a8"
             ],
             [
              0.3333333333333333,
              "#9c179e"
             ],
             [
              0.4444444444444444,
              "#bd3786"
             ],
             [
              0.5555555555555556,
              "#d8576b"
             ],
             [
              0.6666666666666666,
              "#ed7953"
             ],
             [
              0.7777777777777778,
              "#fb9f3a"
             ],
             [
              0.8888888888888888,
              "#fdca26"
             ],
             [
              1,
              "#f0f921"
             ]
            ],
            "type": "contour"
           }
          ],
          "contourcarpet": [
           {
            "colorbar": {
             "outlinewidth": 0,
             "ticks": ""
            },
            "type": "contourcarpet"
           }
          ],
          "heatmap": [
           {
            "colorbar": {
             "outlinewidth": 0,
             "ticks": ""
            },
            "colorscale": [
             [
              0,
              "#0d0887"
             ],
             [
              0.1111111111111111,
              "#46039f"
             ],
             [
              0.2222222222222222,
              "#7201a8"
             ],
             [
              0.3333333333333333,
              "#9c179e"
             ],
             [
              0.4444444444444444,
              "#bd3786"
             ],
             [
              0.5555555555555556,
              "#d8576b"
             ],
             [
              0.6666666666666666,
              "#ed7953"
             ],
             [
              0.7777777777777778,
              "#fb9f3a"
             ],
             [
              0.8888888888888888,
              "#fdca26"
             ],
             [
              1,
              "#f0f921"
             ]
            ],
            "type": "heatmap"
           }
          ],
          "heatmapgl": [
           {
            "colorbar": {
             "outlinewidth": 0,
             "ticks": ""
            },
            "colorscale": [
             [
              0,
              "#0d0887"
             ],
             [
              0.1111111111111111,
              "#46039f"
             ],
             [
              0.2222222222222222,
              "#7201a8"
             ],
             [
              0.3333333333333333,
              "#9c179e"
             ],
             [
              0.4444444444444444,
              "#bd3786"
             ],
             [
              0.5555555555555556,
              "#d8576b"
             ],
             [
              0.6666666666666666,
              "#ed7953"
             ],
             [
              0.7777777777777778,
              "#fb9f3a"
             ],
             [
              0.8888888888888888,
              "#fdca26"
             ],
             [
              1,
              "#f0f921"
             ]
            ],
            "type": "heatmapgl"
           }
          ],
          "histogram": [
           {
            "marker": {
             "pattern": {
              "fillmode": "overlay",
              "size": 10,
              "solidity": 0.2
             }
            },
            "type": "histogram"
           }
          ],
          "histogram2d": [
           {
            "colorbar": {
             "outlinewidth": 0,
             "ticks": ""
            },
            "colorscale": [
             [
              0,
              "#0d0887"
             ],
             [
              0.1111111111111111,
              "#46039f"
             ],
             [
              0.2222222222222222,
              "#7201a8"
             ],
             [
              0.3333333333333333,
              "#9c179e"
             ],
             [
              0.4444444444444444,
              "#bd3786"
             ],
             [
              0.5555555555555556,
              "#d8576b"
             ],
             [
              0.6666666666666666,
              "#ed7953"
             ],
             [
              0.7777777777777778,
              "#fb9f3a"
             ],
             [
              0.8888888888888888,
              "#fdca26"
             ],
             [
              1,
              "#f0f921"
             ]
            ],
            "type": "histogram2d"
           }
          ],
          "histogram2dcontour": [
           {
            "colorbar": {
             "outlinewidth": 0,
             "ticks": ""
            },
            "colorscale": [
             [
              0,
              "#0d0887"
             ],
             [
              0.1111111111111111,
              "#46039f"
             ],
             [
              0.2222222222222222,
              "#7201a8"
             ],
             [
              0.3333333333333333,
              "#9c179e"
             ],
             [
              0.4444444444444444,
              "#bd3786"
             ],
             [
              0.5555555555555556,
              "#d8576b"
             ],
             [
              0.6666666666666666,
              "#ed7953"
             ],
             [
              0.7777777777777778,
              "#fb9f3a"
             ],
             [
              0.8888888888888888,
              "#fdca26"
             ],
             [
              1,
              "#f0f921"
             ]
            ],
            "type": "histogram2dcontour"
           }
          ],
          "mesh3d": [
           {
            "colorbar": {
             "outlinewidth": 0,
             "ticks": ""
            },
            "type": "mesh3d"
           }
          ],
          "parcoords": [
           {
            "line": {
             "colorbar": {
              "outlinewidth": 0,
              "ticks": ""
             }
            },
            "type": "parcoords"
           }
          ],
          "pie": [
           {
            "automargin": true,
            "type": "pie"
           }
          ],
          "scatter": [
           {
            "fillpattern": {
             "fillmode": "overlay",
             "size": 10,
             "solidity": 0.2
            },
            "type": "scatter"
           }
          ],
          "scatter3d": [
           {
            "line": {
             "colorbar": {
              "outlinewidth": 0,
              "ticks": ""
             }
            },
            "marker": {
             "colorbar": {
              "outlinewidth": 0,
              "ticks": ""
             }
            },
            "type": "scatter3d"
           }
          ],
          "scattercarpet": [
           {
            "marker": {
             "colorbar": {
              "outlinewidth": 0,
              "ticks": ""
             }
            },
            "type": "scattercarpet"
           }
          ],
          "scattergeo": [
           {
            "marker": {
             "colorbar": {
              "outlinewidth": 0,
              "ticks": ""
             }
            },
            "type": "scattergeo"
           }
          ],
          "scattergl": [
           {
            "marker": {
             "colorbar": {
              "outlinewidth": 0,
              "ticks": ""
             }
            },
            "type": "scattergl"
           }
          ],
          "scattermapbox": [
           {
            "marker": {
             "colorbar": {
              "outlinewidth": 0,
              "ticks": ""
             }
            },
            "type": "scattermapbox"
           }
          ],
          "scatterpolar": [
           {
            "marker": {
             "colorbar": {
              "outlinewidth": 0,
              "ticks": ""
             }
            },
            "type": "scatterpolar"
           }
          ],
          "scatterpolargl": [
           {
            "marker": {
             "colorbar": {
              "outlinewidth": 0,
              "ticks": ""
             }
            },
            "type": "scatterpolargl"
           }
          ],
          "scatterternary": [
           {
            "marker": {
             "colorbar": {
              "outlinewidth": 0,
              "ticks": ""
             }
            },
            "type": "scatterternary"
           }
          ],
          "surface": [
           {
            "colorbar": {
             "outlinewidth": 0,
             "ticks": ""
            },
            "colorscale": [
             [
              0,
              "#0d0887"
             ],
             [
              0.1111111111111111,
              "#46039f"
             ],
             [
              0.2222222222222222,
              "#7201a8"
             ],
             [
              0.3333333333333333,
              "#9c179e"
             ],
             [
              0.4444444444444444,
              "#bd3786"
             ],
             [
              0.5555555555555556,
              "#d8576b"
             ],
             [
              0.6666666666666666,
              "#ed7953"
             ],
             [
              0.7777777777777778,
              "#fb9f3a"
             ],
             [
              0.8888888888888888,
              "#fdca26"
             ],
             [
              1,
              "#f0f921"
             ]
            ],
            "type": "surface"
           }
          ],
          "table": [
           {
            "cells": {
             "fill": {
              "color": "#EBF0F8"
             },
             "line": {
              "color": "white"
             }
            },
            "header": {
             "fill": {
              "color": "#C8D4E3"
             },
             "line": {
              "color": "white"
             }
            },
            "type": "table"
           }
          ]
         },
         "layout": {
          "annotationdefaults": {
           "arrowcolor": "#2a3f5f",
           "arrowhead": 0,
           "arrowwidth": 1
          },
          "autotypenumbers": "strict",
          "coloraxis": {
           "colorbar": {
            "outlinewidth": 0,
            "ticks": ""
           }
          },
          "colorscale": {
           "diverging": [
            [
             0,
             "#8e0152"
            ],
            [
             0.1,
             "#c51b7d"
            ],
            [
             0.2,
             "#de77ae"
            ],
            [
             0.3,
             "#f1b6da"
            ],
            [
             0.4,
             "#fde0ef"
            ],
            [
             0.5,
             "#f7f7f7"
            ],
            [
             0.6,
             "#e6f5d0"
            ],
            [
             0.7,
             "#b8e186"
            ],
            [
             0.8,
             "#7fbc41"
            ],
            [
             0.9,
             "#4d9221"
            ],
            [
             1,
             "#276419"
            ]
           ],
           "sequential": [
            [
             0,
             "#0d0887"
            ],
            [
             0.1111111111111111,
             "#46039f"
            ],
            [
             0.2222222222222222,
             "#7201a8"
            ],
            [
             0.3333333333333333,
             "#9c179e"
            ],
            [
             0.4444444444444444,
             "#bd3786"
            ],
            [
             0.5555555555555556,
             "#d8576b"
            ],
            [
             0.6666666666666666,
             "#ed7953"
            ],
            [
             0.7777777777777778,
             "#fb9f3a"
            ],
            [
             0.8888888888888888,
             "#fdca26"
            ],
            [
             1,
             "#f0f921"
            ]
           ],
           "sequentialminus": [
            [
             0,
             "#0d0887"
            ],
            [
             0.1111111111111111,
             "#46039f"
            ],
            [
             0.2222222222222222,
             "#7201a8"
            ],
            [
             0.3333333333333333,
             "#9c179e"
            ],
            [
             0.4444444444444444,
             "#bd3786"
            ],
            [
             0.5555555555555556,
             "#d8576b"
            ],
            [
             0.6666666666666666,
             "#ed7953"
            ],
            [
             0.7777777777777778,
             "#fb9f3a"
            ],
            [
             0.8888888888888888,
             "#fdca26"
            ],
            [
             1,
             "#f0f921"
            ]
           ]
          },
          "colorway": [
           "#636efa",
           "#EF553B",
           "#00cc96",
           "#ab63fa",
           "#FFA15A",
           "#19d3f3",
           "#FF6692",
           "#B6E880",
           "#FF97FF",
           "#FECB52"
          ],
          "font": {
           "color": "#2a3f5f"
          },
          "geo": {
           "bgcolor": "white",
           "lakecolor": "white",
           "landcolor": "#E5ECF6",
           "showlakes": true,
           "showland": true,
           "subunitcolor": "white"
          },
          "hoverlabel": {
           "align": "left"
          },
          "hovermode": "closest",
          "mapbox": {
           "style": "light"
          },
          "paper_bgcolor": "white",
          "plot_bgcolor": "#E5ECF6",
          "polar": {
           "angularaxis": {
            "gridcolor": "white",
            "linecolor": "white",
            "ticks": ""
           },
           "bgcolor": "#E5ECF6",
           "radialaxis": {
            "gridcolor": "white",
            "linecolor": "white",
            "ticks": ""
           }
          },
          "scene": {
           "xaxis": {
            "backgroundcolor": "#E5ECF6",
            "gridcolor": "white",
            "gridwidth": 2,
            "linecolor": "white",
            "showbackground": true,
            "ticks": "",
            "zerolinecolor": "white"
           },
           "yaxis": {
            "backgroundcolor": "#E5ECF6",
            "gridcolor": "white",
            "gridwidth": 2,
            "linecolor": "white",
            "showbackground": true,
            "ticks": "",
            "zerolinecolor": "white"
           },
           "zaxis": {
            "backgroundcolor": "#E5ECF6",
            "gridcolor": "white",
            "gridwidth": 2,
            "linecolor": "white",
            "showbackground": true,
            "ticks": "",
            "zerolinecolor": "white"
           }
          },
          "shapedefaults": {
           "line": {
            "color": "#2a3f5f"
           }
          },
          "ternary": {
           "aaxis": {
            "gridcolor": "white",
            "linecolor": "white",
            "ticks": ""
           },
           "baxis": {
            "gridcolor": "white",
            "linecolor": "white",
            "ticks": ""
           },
           "bgcolor": "#E5ECF6",
           "caxis": {
            "gridcolor": "white",
            "linecolor": "white",
            "ticks": ""
           }
          },
          "title": {
           "x": 0.05
          },
          "xaxis": {
           "automargin": true,
           "gridcolor": "white",
           "linecolor": "white",
           "ticks": "",
           "title": {
            "standoff": 15
           },
           "zerolinecolor": "white",
           "zerolinewidth": 2
          },
          "yaxis": {
           "automargin": true,
           "gridcolor": "white",
           "linecolor": "white",
           "ticks": "",
           "title": {
            "standoff": 15
           },
           "zerolinecolor": "white",
           "zerolinewidth": 2
          }
         }
        },
        "title": {
         "text": "2D Scatter Plot"
        },
        "xaxis": {
         "anchor": "y",
         "domain": [
          0,
          1
         ],
         "title": {
          "text": "date"
         }
        },
        "yaxis": {
         "anchor": "x",
         "domain": [
          0,
          1
         ],
         "title": {
          "text": "celsius"
         }
        }
       }
      },
      "text/html": [
       "<div>                            <div id=\"8754b485-f61c-4e52-8cc7-9e73119e08d2\" class=\"plotly-graph-div\" style=\"height:525px; width:100%;\"></div>            <script type=\"text/javascript\">                require([\"plotly\"], function(Plotly) {                    window.PLOTLYENV=window.PLOTLYENV || {};                                    if (document.getElementById(\"8754b485-f61c-4e52-8cc7-9e73119e08d2\")) {                    Plotly.newPlot(                        \"8754b485-f61c-4e52-8cc7-9e73119e08d2\",                        [{\"hovertemplate\":\"season=Summer<br>date=%{x}<br>celsius=%{y}<extra></extra>\",\"legendgroup\":\"Summer\",\"marker\":{\"color\":\"#636efa\",\"symbol\":\"circle\"},\"mode\":\"markers\",\"name\":\"Summer\",\"orientation\":\"v\",\"showlegend\":true,\"x\":[\"2020-09-25\",\"2020-09-28\",\"2020-09-29\",\"2020-09-30\",\"2020-10-01\",\"2020-10-02\",\"2020-10-05\",\"2020-10-06\",\"2020-10-07\",\"2020-10-12\",\"2020-10-13\",\"2020-10-14\",\"2020-10-15\",\"2020-10-17\",\"2020-10-18\",\"2020-10-19\",\"2020-10-20\",\"2020-10-21\",\"2020-10-22\",\"2020-10-23\",\"2020-10-24\",\"2020-10-25\",\"2020-10-26\",\"2020-10-27\",\"2020-10-28\",\"2020-10-29\",\"2020-10-30\",\"2020-10-31\",\"2021-03-01\",\"2021-03-02\",\"2021-03-03\",\"2021-03-04\",\"2021-03-05\",\"2021-03-06\",\"2021-03-07\",\"2021-03-08\",\"2021-03-09\",\"2021-03-10\",\"2021-03-11\",\"2021-03-12\",\"2021-03-13\",\"2021-03-14\",\"2021-03-15\",\"2021-03-16\",\"2021-03-17\",\"2021-03-18\",\"2021-03-19\",\"2021-03-20\",\"2021-03-21\",\"2021-03-22\",\"2021-03-23\",\"2021-03-24\",\"2021-03-25\",\"2021-03-26\",\"2021-03-27\",\"2021-03-28\",\"2021-03-29\",\"2021-03-30\",\"2021-03-31\",\"2021-04-01\",\"2021-04-02\",\"2021-04-03\",\"2021-04-04\",\"2021-04-05\",\"2021-04-06\",\"2021-04-07\",\"2021-04-08\",\"2021-04-09\",\"2021-04-10\",\"2021-04-11\",\"2021-04-12\",\"2021-04-13\",\"2021-04-14\",\"2021-04-15\",\"2021-04-16\",\"2021-04-17\",\"2021-04-18\",\"2021-04-19\",\"2021-04-20\",\"2021-04-21\",\"2021-04-22\",\"2021-04-23\",\"2021-04-24\",\"2021-04-25\",\"2021-04-26\",\"2021-04-27\",\"2021-04-28\",\"2021-04-29\",\"2021-04-30\",\"2021-05-01\",\"2021-05-02\",\"2021-05-03\",\"2021-05-04\",\"2021-05-05\",\"2021-05-06\",\"2021-05-07\",\"2021-05-08\",\"2021-05-09\",\"2021-05-10\",\"2021-05-11\",\"2021-05-12\",\"2021-05-13\",\"2021-05-14\",\"2021-05-15\",\"2021-05-16\",\"2021-05-17\",\"2021-05-18\",\"2021-05-19\",\"2021-05-20\",\"2021-05-21\",\"2021-05-22\",\"2021-05-23\",\"2021-05-24\",\"2021-05-25\",\"2021-05-26\",\"2021-05-27\",\"2021-05-28\",\"2021-05-29\",\"2021-05-30\",\"2021-05-31\",\"2021-06-01\",\"2021-06-02\",\"2021-06-03\",\"2021-06-04\",\"2021-06-05\",\"2021-06-06\",\"2021-06-07\",\"2021-06-08\",\"2021-06-09\",\"2021-06-10\",\"2021-06-11\",\"2021-06-12\",\"2021-06-13\",\"2021-06-14\",\"2021-06-15\",\"2021-06-16\",\"2021-06-17\",\"2021-06-18\",\"2021-06-19\",\"2021-06-20\",\"2021-06-21\",\"2021-06-22\",\"2021-06-23\",\"2021-06-24\",\"2021-06-25\",\"2021-06-26\",\"2021-06-27\",\"2021-06-28\",\"2021-06-29\",\"2021-06-30\",\"2021-07-01\",\"2021-07-02\",\"2021-07-03\",\"2021-07-04\",\"2021-07-05\",\"2021-07-06\",\"2021-07-07\",\"2021-07-08\",\"2021-07-09\",\"2021-07-10\",\"2021-07-11\",\"2021-07-12\",\"2021-07-13\",\"2021-07-14\",\"2021-07-15\",\"2021-07-16\",\"2021-07-17\",\"2021-07-18\",\"2021-07-19\",\"2021-07-20\",\"2021-07-21\",\"2021-07-22\",\"2021-07-23\",\"2021-07-24\",\"2021-07-25\",\"2021-07-26\",\"2021-07-27\",\"2021-07-28\",\"2021-07-29\",\"2021-07-30\",\"2021-07-31\",\"2021-08-01\",\"2021-08-02\",\"2021-08-03\",\"2021-08-04\",\"2021-08-05\",\"2021-08-06\",\"2021-08-07\",\"2021-08-08\",\"2021-08-09\",\"2021-08-10\",\"2021-08-11\",\"2021-08-12\",\"2021-08-13\",\"2021-08-14\",\"2021-08-15\",\"2021-08-16\",\"2021-08-17\",\"2021-08-18\",\"2021-08-19\",\"2021-08-20\",\"2021-08-21\",\"2021-08-22\",\"2021-08-23\",\"2021-08-24\",\"2021-08-25\",\"2021-08-26\",\"2021-08-27\",\"2021-08-28\",\"2021-08-29\",\"2021-08-30\",\"2021-08-31\",\"2021-09-01\",\"2021-09-02\",\"2021-09-03\",\"2021-09-04\",\"2021-09-05\",\"2021-09-06\",\"2021-09-07\"],\"xaxis\":\"x\",\"y\":[23.92168,21.740979385185184,22.25397396470588,23.550425366666666,21.840884021459228,21.6014863836858,20.70385074506579,20.748690823665896,21.268596873353598,20.262263817232377,20.542709347588424,20.604826958179906,18.197174966244727,17.86716850561798,17.442761452054796,20.476831459646213,20.234754796992483,20.64050768042453,21.112512604316546,20.95779131358885,20.272681745704467,19.682611432343236,20.77553674860465,20.824428494138335,19.80318863240418,19.323531549565217,20.208289919931858,20.386699436521738,20.683238858882415,20.82013446208217,20.96522925427225,20.44331057474227,20.439927305580095,19.89720500544598,19.618111311819252,19.75718682344279,19.480748620309054,19.50120769636551,19.767252330929956,19.870905837038126,19.63240868727005,19.419183899043414,19.702560830267807,19.594645107064018,19.386469241719418,19.662824573289182,19.790700644455896,19.983899132043547,19.576991090567983,19.539549355344523,19.965946650073747,20.365014721346494,20.393839219154888,20.79520151215022,20.53161731117491,20.86913907318384,21.50305579407866,21.829746988068937,22.504761816794453,23.03432030246176,21.708090126915145,21.442419580338736,21.08105484911635,20.371287262627007,19.91501618761036,19.295671006222822,19.932314087576685,20.242477404739994,20.01825197384167,19.755655876188285,19.803085061944188,19.969558309402224,19.489827544973544,20.767655129352423,20.177783047167033,20.526293496171967,20.412322783747978,20.57789663826343,21.082879232140225,21.33987893681885,21.216073220430104,21.542177340209225,21.5914494804066,21.464175976744187,21.71729288211023,22.016489749373804,21.966876493886268,21.53360721921944,21.095997185133342,21.496717018259464,21.384907723236637,21.61281181952837,21.479755557454332,21.262646669320358,21.102574009133765,20.93141004475195,20.98550179089972,22.51914073724565,22.74125884295816,22.273362101579803,22.695699643057193,22.50425561965812,22.66350349822826,22.495956845348665,22.515186837459474,22.29670332138643,21.741527298378138,21.87402320751762,22.10769630094044,22.581532108457324,21.64161332719436,21.839668456538764,21.724017323540934,21.018978039138943,20.848363132784957,20.685553953461085,21.764028610458283,22.774322554488435,23.55036850685468,24.162657269623235,24.75589593958415,25.57015304356358,25.434115437769925,25.432762311568627,24.30547870439388,23.541394160784314,23.928736279106232,24.812836481161696,25.440125766875983,26.212526258045525,26.688075978389,26.49940502080063,26.340825975255303,26.623689838050314,26.999422110936273,27.604861433687525,28.631167582547167,29.191491326779396,29.496482083464567,29.550629871804954,27.376320155206287,25.851264928122543,24.624923224577934,24.99397761592301,25.672062957226018,26.75995069511269,27.002250989102887,26.804668007092197,26.479110519523328,25.04454722672065,24.11956871299903,24.471746740184482,25.43451759881657,25.507085028402365,24.640497651844843,24.91762627404074,25.259365191051135,24.860995405398832,24.82313587937559,25.084256844260356,24.941897282233263,25.271742503786086,24.33694506674556,23.328601110822305,22.873604364625205,22.77137940153664,23.438562200401986,24.969548244612835,25.138395174077576,25.273803322679925,25.82245616485078,26.121013065371862,26.42953891615348,25.715119627130683,26.292516964471815,26.517906028889414,26.26822832946471,26.394860395260665,26.311389516995483,26.54697440464345,26.24542838290315,25.695491431344696,25.088046925714288,24.031473529868116,24.567828910456587,24.710199128459898,24.655040468372423,24.647136415089875,24.72769718637654,24.4908084066714,24.356445814630682,24.859629862786846,25.370019335386072,25.744949036123995,26.644813915443038,27.05344159224531,25.691290763544302,23.91614039220648,23.347218321279332,22.907684614615988,23.185978304126984,23.97517116177149,23.925465906370505,23.40266407973243,23.803330884266376,24.10957100853321,23.396627069209472,22.950369413133643,22.581835483422868,21.91404606565812,21.784499959459463,22.01642584959035,21.83818825025792,22.77411276909466,23.6202939406167,24.031295619943904,24.635505872528768,24.952162134819844,24.46378019081272],\"yaxis\":\"y\",\"type\":\"scatter\"},{\"hovertemplate\":\"season=Winter<br>date=%{x}<br>celsius=%{y}<extra></extra>\",\"legendgroup\":\"Winter\",\"marker\":{\"color\":\"#EF553B\",\"symbol\":\"circle\"},\"mode\":\"markers\",\"name\":\"Winter\",\"orientation\":\"v\",\"showlegend\":true,\"x\":[\"2020-11-01\",\"2020-11-02\",\"2020-11-03\",\"2020-11-04\",\"2020-11-05\",\"2020-11-06\",\"2020-11-07\",\"2020-11-08\",\"2020-11-09\",\"2020-11-10\",\"2020-11-11\",\"2020-11-12\",\"2020-11-13\",\"2020-11-14\",\"2020-11-16\",\"2020-11-17\",\"2020-11-18\",\"2020-11-19\",\"2020-11-20\",\"2020-11-21\",\"2020-11-22\",\"2020-11-23\",\"2020-11-24\",\"2020-11-25\",\"2020-11-26\",\"2020-11-27\",\"2020-11-28\",\"2020-11-29\",\"2020-11-30\",\"2020-12-01\",\"2020-12-02\",\"2020-12-03\",\"2020-12-04\",\"2020-12-05\",\"2020-12-06\",\"2020-12-07\",\"2020-12-08\",\"2020-12-09\",\"2020-12-10\",\"2020-12-11\",\"2020-12-12\",\"2020-12-13\",\"2020-12-14\",\"2020-12-15\",\"2020-12-16\",\"2020-12-17\",\"2020-12-18\",\"2020-12-19\",\"2020-12-20\",\"2020-12-21\",\"2020-12-22\",\"2020-12-23\",\"2020-12-24\",\"2020-12-25\",\"2020-12-26\",\"2020-12-27\",\"2020-12-28\",\"2020-12-29\",\"2020-12-30\",\"2020-12-31\",\"2021-01-01\",\"2021-01-02\",\"2021-01-03\",\"2021-01-04\",\"2021-01-05\",\"2021-01-06\",\"2021-01-07\",\"2021-01-08\",\"2021-01-09\",\"2021-01-10\",\"2021-01-11\",\"2021-01-12\",\"2021-01-13\",\"2021-01-14\",\"2021-01-15\",\"2021-01-16\",\"2021-01-17\",\"2021-01-18\",\"2021-01-19\",\"2021-01-20\",\"2021-01-21\",\"2021-01-22\",\"2021-01-23\",\"2021-01-24\",\"2021-01-25\",\"2021-01-26\",\"2021-01-27\",\"2021-01-28\",\"2021-01-29\",\"2021-01-30\",\"2021-01-31\",\"2021-02-01\",\"2021-02-02\",\"2021-02-03\",\"2021-02-04\",\"2021-02-05\",\"2021-02-06\",\"2021-02-07\",\"2021-02-08\",\"2021-02-09\",\"2021-02-10\",\"2021-02-11\",\"2021-02-12\",\"2021-02-13\",\"2021-02-14\",\"2021-02-15\",\"2021-02-16\",\"2021-02-17\",\"2021-02-18\",\"2021-02-19\",\"2021-02-20\",\"2021-02-21\",\"2021-02-22\",\"2021-02-23\",\"2021-02-24\",\"2021-02-25\",\"2021-02-26\",\"2021-02-27\",\"2021-02-28\"],\"xaxis\":\"x\",\"y\":[20.20940187652174,20.966362151515153,20.679301314586993,20.160020074782608,19.26782167826087,21.352184159857906,19.610095450638795,19.32946157491289,20.02526233838973,20.72800024622532,20.90124801976744,20.498819373255813,20.572979639960433,20.18822725531915,20.741730513274337,20.57355263773148,20.469732379310344,20.100922549295774,20.459143109589043,19.831238330088496,19.63745437815126,20.114797414749386,19.60856795283019,20.18251862653563,20.258863533372594,20.53038321524347,20.354554229573854,19.856312974346565,19.809210574598072,20.567352370103617,20.54447888885619,20.6165309408284,20.471293927093843,20.217861833137288,19.971232826945705,20.234206844940868,20.300111632087326,20.145799661164006,20.07554804970805,19.59496755621346,19.303284730644688,19.370523733706047,19.942066995006513,20.163860796183744,19.87035427843719,19.984946497668833,19.938321516855655,19.522845488714513,19.296845935108447,18.968675228422356,18.99284774329806,19.015112398677246,18.776190897232507,18.616143699188424,18.49723278366232,18.164571353138225,18.103843678004935,17.9949975,17.968739366696035,17.788812771806167,17.847529082407895,17.70856755049435,17.519576263421932,18.474246750078816,19.255821216285927,19.418116319878983,19.38144115647059,19.46228332184923,18.751728763987042,18.631114577987052,19.070537810403177,19.325664440994704,18.99624145263313,19.00375163749813,19.306941759329202,19.431199445564218,19.39305375320088,19.79398848307081,19.615796241833433,19.729417092535336,19.818685647305657,19.975753232999708,19.65524942228437,19.361772906737276,19.32317680103017,19.33411646271736,19.100885414851337,19.124012284905106,19.51444368577104,19.112793923642784,18.917700842922308,19.276768821233986,19.410728125625184,19.283096091450854,19.46345636957481,19.86342107918752,19.802365524808597,19.23624571365509,18.85547248609885,18.57631897240618,18.394311261540746,18.69953812362112,18.781851893656167,18.792032739882266,19.040689477794118,18.983733875643857,19.487134183242606,20.016694654265507,20.14525907215432,20.30030656283108,20.35227464995583,20.682834496908125,20.76128213468336,21.05865161531664,21.413601056783033,21.434223667844524,21.124582645044377,20.459446760297045,20.61836094920976],\"yaxis\":\"y\",\"type\":\"scatter\"}],                        {\"template\":{\"data\":{\"histogram2dcontour\":[{\"type\":\"histogram2dcontour\",\"colorbar\":{\"outlinewidth\":0,\"ticks\":\"\"},\"colorscale\":[[0.0,\"#0d0887\"],[0.1111111111111111,\"#46039f\"],[0.2222222222222222,\"#7201a8\"],[0.3333333333333333,\"#9c179e\"],[0.4444444444444444,\"#bd3786\"],[0.5555555555555556,\"#d8576b\"],[0.6666666666666666,\"#ed7953\"],[0.7777777777777778,\"#fb9f3a\"],[0.8888888888888888,\"#fdca26\"],[1.0,\"#f0f921\"]]}],\"choropleth\":[{\"type\":\"choropleth\",\"colorbar\":{\"outlinewidth\":0,\"ticks\":\"\"}}],\"histogram2d\":[{\"type\":\"histogram2d\",\"colorbar\":{\"outlinewidth\":0,\"ticks\":\"\"},\"colorscale\":[[0.0,\"#0d0887\"],[0.1111111111111111,\"#46039f\"],[0.2222222222222222,\"#7201a8\"],[0.3333333333333333,\"#9c179e\"],[0.4444444444444444,\"#bd3786\"],[0.5555555555555556,\"#d8576b\"],[0.6666666666666666,\"#ed7953\"],[0.7777777777777778,\"#fb9f3a\"],[0.8888888888888888,\"#fdca26\"],[1.0,\"#f0f921\"]]}],\"heatmap\":[{\"type\":\"heatmap\",\"colorbar\":{\"outlinewidth\":0,\"ticks\":\"\"},\"colorscale\":[[0.0,\"#0d0887\"],[0.1111111111111111,\"#46039f\"],[0.2222222222222222,\"#7201a8\"],[0.3333333333333333,\"#9c179e\"],[0.4444444444444444,\"#bd3786\"],[0.5555555555555556,\"#d8576b\"],[0.6666666666666666,\"#ed7953\"],[0.7777777777777778,\"#fb9f3a\"],[0.8888888888888888,\"#fdca26\"],[1.0,\"#f0f921\"]]}],\"heatmapgl\":[{\"type\":\"heatmapgl\",\"colorbar\":{\"outlinewidth\":0,\"ticks\":\"\"},\"colorscale\":[[0.0,\"#0d0887\"],[0.1111111111111111,\"#46039f\"],[0.2222222222222222,\"#7201a8\"],[0.3333333333333333,\"#9c179e\"],[0.4444444444444444,\"#bd3786\"],[0.5555555555555556,\"#d8576b\"],[0.6666666666666666,\"#ed7953\"],[0.7777777777777778,\"#fb9f3a\"],[0.8888888888888888,\"#fdca26\"],[1.0,\"#f0f921\"]]}],\"contourcarpet\":[{\"type\":\"contourcarpet\",\"colorbar\":{\"outlinewidth\":0,\"ticks\":\"\"}}],\"contour\":[{\"type\":\"contour\",\"colorbar\":{\"outlinewidth\":0,\"ticks\":\"\"},\"colorscale\":[[0.0,\"#0d0887\"],[0.1111111111111111,\"#46039f\"],[0.2222222222222222,\"#7201a8\"],[0.3333333333333333,\"#9c179e\"],[0.4444444444444444,\"#bd3786\"],[0.5555555555555556,\"#d8576b\"],[0.6666666666666666,\"#ed7953\"],[0.7777777777777778,\"#fb9f3a\"],[0.8888888888888888,\"#fdca26\"],[1.0,\"#f0f921\"]]}],\"surface\":[{\"type\":\"surface\",\"colorbar\":{\"outlinewidth\":0,\"ticks\":\"\"},\"colorscale\":[[0.0,\"#0d0887\"],[0.1111111111111111,\"#46039f\"],[0.2222222222222222,\"#7201a8\"],[0.3333333333333333,\"#9c179e\"],[0.4444444444444444,\"#bd3786\"],[0.5555555555555556,\"#d8576b\"],[0.6666666666666666,\"#ed7953\"],[0.7777777777777778,\"#fb9f3a\"],[0.8888888888888888,\"#fdca26\"],[1.0,\"#f0f921\"]]}],\"mesh3d\":[{\"type\":\"mesh3d\",\"colorbar\":{\"outlinewidth\":0,\"ticks\":\"\"}}],\"scatter\":[{\"fillpattern\":{\"fillmode\":\"overlay\",\"size\":10,\"solidity\":0.2},\"type\":\"scatter\"}],\"parcoords\":[{\"type\":\"parcoords\",\"line\":{\"colorbar\":{\"outlinewidth\":0,\"ticks\":\"\"}}}],\"scatterpolargl\":[{\"type\":\"scatterpolargl\",\"marker\":{\"colorbar\":{\"outlinewidth\":0,\"ticks\":\"\"}}}],\"bar\":[{\"error_x\":{\"color\":\"#2a3f5f\"},\"error_y\":{\"color\":\"#2a3f5f\"},\"marker\":{\"line\":{\"color\":\"#E5ECF6\",\"width\":0.5},\"pattern\":{\"fillmode\":\"overlay\",\"size\":10,\"solidity\":0.2}},\"type\":\"bar\"}],\"scattergeo\":[{\"type\":\"scattergeo\",\"marker\":{\"colorbar\":{\"outlinewidth\":0,\"ticks\":\"\"}}}],\"scatterpolar\":[{\"type\":\"scatterpolar\",\"marker\":{\"colorbar\":{\"outlinewidth\":0,\"ticks\":\"\"}}}],\"histogram\":[{\"marker\":{\"pattern\":{\"fillmode\":\"overlay\",\"size\":10,\"solidity\":0.2}},\"type\":\"histogram\"}],\"scattergl\":[{\"type\":\"scattergl\",\"marker\":{\"colorbar\":{\"outlinewidth\":0,\"ticks\":\"\"}}}],\"scatter3d\":[{\"type\":\"scatter3d\",\"line\":{\"colorbar\":{\"outlinewidth\":0,\"ticks\":\"\"}},\"marker\":{\"colorbar\":{\"outlinewidth\":0,\"ticks\":\"\"}}}],\"scattermapbox\":[{\"type\":\"scattermapbox\",\"marker\":{\"colorbar\":{\"outlinewidth\":0,\"ticks\":\"\"}}}],\"scatterternary\":[{\"type\":\"scatterternary\",\"marker\":{\"colorbar\":{\"outlinewidth\":0,\"ticks\":\"\"}}}],\"scattercarpet\":[{\"type\":\"scattercarpet\",\"marker\":{\"colorbar\":{\"outlinewidth\":0,\"ticks\":\"\"}}}],\"carpet\":[{\"aaxis\":{\"endlinecolor\":\"#2a3f5f\",\"gridcolor\":\"white\",\"linecolor\":\"white\",\"minorgridcolor\":\"white\",\"startlinecolor\":\"#2a3f5f\"},\"baxis\":{\"endlinecolor\":\"#2a3f5f\",\"gridcolor\":\"white\",\"linecolor\":\"white\",\"minorgridcolor\":\"white\",\"startlinecolor\":\"#2a3f5f\"},\"type\":\"carpet\"}],\"table\":[{\"cells\":{\"fill\":{\"color\":\"#EBF0F8\"},\"line\":{\"color\":\"white\"}},\"header\":{\"fill\":{\"color\":\"#C8D4E3\"},\"line\":{\"color\":\"white\"}},\"type\":\"table\"}],\"barpolar\":[{\"marker\":{\"line\":{\"color\":\"#E5ECF6\",\"width\":0.5},\"pattern\":{\"fillmode\":\"overlay\",\"size\":10,\"solidity\":0.2}},\"type\":\"barpolar\"}],\"pie\":[{\"automargin\":true,\"type\":\"pie\"}]},\"layout\":{\"autotypenumbers\":\"strict\",\"colorway\":[\"#636efa\",\"#EF553B\",\"#00cc96\",\"#ab63fa\",\"#FFA15A\",\"#19d3f3\",\"#FF6692\",\"#B6E880\",\"#FF97FF\",\"#FECB52\"],\"font\":{\"color\":\"#2a3f5f\"},\"hovermode\":\"closest\",\"hoverlabel\":{\"align\":\"left\"},\"paper_bgcolor\":\"white\",\"plot_bgcolor\":\"#E5ECF6\",\"polar\":{\"bgcolor\":\"#E5ECF6\",\"angularaxis\":{\"gridcolor\":\"white\",\"linecolor\":\"white\",\"ticks\":\"\"},\"radialaxis\":{\"gridcolor\":\"white\",\"linecolor\":\"white\",\"ticks\":\"\"}},\"ternary\":{\"bgcolor\":\"#E5ECF6\",\"aaxis\":{\"gridcolor\":\"white\",\"linecolor\":\"white\",\"ticks\":\"\"},\"baxis\":{\"gridcolor\":\"white\",\"linecolor\":\"white\",\"ticks\":\"\"},\"caxis\":{\"gridcolor\":\"white\",\"linecolor\":\"white\",\"ticks\":\"\"}},\"coloraxis\":{\"colorbar\":{\"outlinewidth\":0,\"ticks\":\"\"}},\"colorscale\":{\"sequential\":[[0.0,\"#0d0887\"],[0.1111111111111111,\"#46039f\"],[0.2222222222222222,\"#7201a8\"],[0.3333333333333333,\"#9c179e\"],[0.4444444444444444,\"#bd3786\"],[0.5555555555555556,\"#d8576b\"],[0.6666666666666666,\"#ed7953\"],[0.7777777777777778,\"#fb9f3a\"],[0.8888888888888888,\"#fdca26\"],[1.0,\"#f0f921\"]],\"sequentialminus\":[[0.0,\"#0d0887\"],[0.1111111111111111,\"#46039f\"],[0.2222222222222222,\"#7201a8\"],[0.3333333333333333,\"#9c179e\"],[0.4444444444444444,\"#bd3786\"],[0.5555555555555556,\"#d8576b\"],[0.6666666666666666,\"#ed7953\"],[0.7777777777777778,\"#fb9f3a\"],[0.8888888888888888,\"#fdca26\"],[1.0,\"#f0f921\"]],\"diverging\":[[0,\"#8e0152\"],[0.1,\"#c51b7d\"],[0.2,\"#de77ae\"],[0.3,\"#f1b6da\"],[0.4,\"#fde0ef\"],[0.5,\"#f7f7f7\"],[0.6,\"#e6f5d0\"],[0.7,\"#b8e186\"],[0.8,\"#7fbc41\"],[0.9,\"#4d9221\"],[1,\"#276419\"]]},\"xaxis\":{\"gridcolor\":\"white\",\"linecolor\":\"white\",\"ticks\":\"\",\"title\":{\"standoff\":15},\"zerolinecolor\":\"white\",\"automargin\":true,\"zerolinewidth\":2},\"yaxis\":{\"gridcolor\":\"white\",\"linecolor\":\"white\",\"ticks\":\"\",\"title\":{\"standoff\":15},\"zerolinecolor\":\"white\",\"automargin\":true,\"zerolinewidth\":2},\"scene\":{\"xaxis\":{\"backgroundcolor\":\"#E5ECF6\",\"gridcolor\":\"white\",\"linecolor\":\"white\",\"showbackground\":true,\"ticks\":\"\",\"zerolinecolor\":\"white\",\"gridwidth\":2},\"yaxis\":{\"backgroundcolor\":\"#E5ECF6\",\"gridcolor\":\"white\",\"linecolor\":\"white\",\"showbackground\":true,\"ticks\":\"\",\"zerolinecolor\":\"white\",\"gridwidth\":2},\"zaxis\":{\"backgroundcolor\":\"#E5ECF6\",\"gridcolor\":\"white\",\"linecolor\":\"white\",\"showbackground\":true,\"ticks\":\"\",\"zerolinecolor\":\"white\",\"gridwidth\":2}},\"shapedefaults\":{\"line\":{\"color\":\"#2a3f5f\"}},\"annotationdefaults\":{\"arrowcolor\":\"#2a3f5f\",\"arrowhead\":0,\"arrowwidth\":1},\"geo\":{\"bgcolor\":\"white\",\"landcolor\":\"#E5ECF6\",\"subunitcolor\":\"white\",\"showland\":true,\"showlakes\":true,\"lakecolor\":\"white\"},\"title\":{\"x\":0.05},\"mapbox\":{\"style\":\"light\"}}},\"xaxis\":{\"anchor\":\"y\",\"domain\":[0.0,1.0],\"title\":{\"text\":\"date\"}},\"yaxis\":{\"anchor\":\"x\",\"domain\":[0.0,1.0],\"title\":{\"text\":\"celsius\"}},\"legend\":{\"title\":{\"text\":\"season\"},\"tracegroupgap\":0},\"title\":{\"text\":\"2D Scatter Plot\"}},                        {\"responsive\": true}                    ).then(function(){\n",
       "                            \n",
       "var gd = document.getElementById('8754b485-f61c-4e52-8cc7-9e73119e08d2');\n",
       "var x = new MutationObserver(function (mutations, observer) {{\n",
       "        var display = window.getComputedStyle(gd).display;\n",
       "        if (!display || display === 'none') {{\n",
       "            console.log([gd, 'removed!']);\n",
       "            Plotly.purge(gd);\n",
       "            observer.disconnect();\n",
       "        }}\n",
       "}});\n",
       "\n",
       "// Listen for the removal of the full notebook cells\n",
       "var notebookContainer = gd.closest('#notebook-container');\n",
       "if (notebookContainer) {{\n",
       "    x.observe(notebookContainer, {childList: true});\n",
       "}}\n",
       "\n",
       "// Listen for the clearing of the current output cell\n",
       "var outputEl = gd.closest('.output');\n",
       "if (outputEl) {{\n",
       "    x.observe(outputEl, {childList: true});\n",
       "}}\n",
       "\n",
       "                        })                };                });            </script>        </div>"
      ]
     },
     "metadata": {},
     "output_type": "display_data"
    }
   ],
   "source": [
    "fig_2d = px.scatter(graph_over_time_season, x='date', y='celsius', color='season', title='2D Scatter Plot')\n",
    "fig_2d.show()"
   ]
  },
  {
   "cell_type": "code",
   "execution_count": 82,
   "id": "ae63478a",
   "metadata": {},
   "outputs": [
    {
     "data": {
      "application/vnd.plotly.v1+json": {
       "config": {
        "plotlyServerURL": "https://plot.ly"
       },
       "data": [
        {
         "hovertemplate": "season=Summer<br>date=%{x}<br>celsius=%{y}<br>humidity=%{z}<extra></extra>",
         "legendgroup": "Summer",
         "marker": {
          "color": "#636efa",
          "symbol": "circle"
         },
         "mode": "markers",
         "name": "Summer",
         "scene": "scene",
         "showlegend": true,
         "type": "scatter3d",
         "x": [
          "2020-09-25",
          "2020-09-28",
          "2020-09-29",
          "2020-09-30",
          "2020-10-01",
          "2020-10-02",
          "2020-10-05",
          "2020-10-06",
          "2020-10-07",
          "2020-10-12",
          "2020-10-13",
          "2020-10-14",
          "2020-10-15",
          "2020-10-17",
          "2020-10-18",
          "2020-10-19",
          "2020-10-20",
          "2020-10-21",
          "2020-10-22",
          "2020-10-23",
          "2020-10-24",
          "2020-10-25",
          "2020-10-26",
          "2020-10-27",
          "2020-10-28",
          "2020-10-29",
          "2020-10-30",
          "2020-10-31",
          "2021-03-01",
          "2021-03-02",
          "2021-03-03",
          "2021-03-04",
          "2021-03-05",
          "2021-03-06",
          "2021-03-07",
          "2021-03-08",
          "2021-03-09",
          "2021-03-10",
          "2021-03-11",
          "2021-03-12",
          "2021-03-13",
          "2021-03-14",
          "2021-03-15",
          "2021-03-16",
          "2021-03-17",
          "2021-03-18",
          "2021-03-19",
          "2021-03-20",
          "2021-03-21",
          "2021-03-22",
          "2021-03-23",
          "2021-03-24",
          "2021-03-25",
          "2021-03-26",
          "2021-03-27",
          "2021-03-28",
          "2021-03-29",
          "2021-03-30",
          "2021-03-31",
          "2021-04-01",
          "2021-04-02",
          "2021-04-03",
          "2021-04-04",
          "2021-04-05",
          "2021-04-06",
          "2021-04-07",
          "2021-04-08",
          "2021-04-09",
          "2021-04-10",
          "2021-04-11",
          "2021-04-12",
          "2021-04-13",
          "2021-04-14",
          "2021-04-15",
          "2021-04-16",
          "2021-04-17",
          "2021-04-18",
          "2021-04-19",
          "2021-04-20",
          "2021-04-21",
          "2021-04-22",
          "2021-04-23",
          "2021-04-24",
          "2021-04-25",
          "2021-04-26",
          "2021-04-27",
          "2021-04-28",
          "2021-04-29",
          "2021-04-30",
          "2021-05-01",
          "2021-05-02",
          "2021-05-03",
          "2021-05-04",
          "2021-05-05",
          "2021-05-06",
          "2021-05-07",
          "2021-05-08",
          "2021-05-09",
          "2021-05-10",
          "2021-05-11",
          "2021-05-12",
          "2021-05-13",
          "2021-05-14",
          "2021-05-15",
          "2021-05-16",
          "2021-05-17",
          "2021-05-18",
          "2021-05-19",
          "2021-05-20",
          "2021-05-21",
          "2021-05-22",
          "2021-05-23",
          "2021-05-24",
          "2021-05-25",
          "2021-05-26",
          "2021-05-27",
          "2021-05-28",
          "2021-05-29",
          "2021-05-30",
          "2021-05-31",
          "2021-06-01",
          "2021-06-02",
          "2021-06-03",
          "2021-06-04",
          "2021-06-05",
          "2021-06-06",
          "2021-06-07",
          "2021-06-08",
          "2021-06-09",
          "2021-06-10",
          "2021-06-11",
          "2021-06-12",
          "2021-06-13",
          "2021-06-14",
          "2021-06-15",
          "2021-06-16",
          "2021-06-17",
          "2021-06-18",
          "2021-06-19",
          "2021-06-20",
          "2021-06-21",
          "2021-06-22",
          "2021-06-23",
          "2021-06-24",
          "2021-06-25",
          "2021-06-26",
          "2021-06-27",
          "2021-06-28",
          "2021-06-29",
          "2021-06-30",
          "2021-07-01",
          "2021-07-02",
          "2021-07-03",
          "2021-07-04",
          "2021-07-05",
          "2021-07-06",
          "2021-07-07",
          "2021-07-08",
          "2021-07-09",
          "2021-07-10",
          "2021-07-11",
          "2021-07-12",
          "2021-07-13",
          "2021-07-14",
          "2021-07-15",
          "2021-07-16",
          "2021-07-17",
          "2021-07-18",
          "2021-07-19",
          "2021-07-20",
          "2021-07-21",
          "2021-07-22",
          "2021-07-23",
          "2021-07-24",
          "2021-07-25",
          "2021-07-26",
          "2021-07-27",
          "2021-07-28",
          "2021-07-29",
          "2021-07-30",
          "2021-07-31",
          "2021-08-01",
          "2021-08-02",
          "2021-08-03",
          "2021-08-04",
          "2021-08-05",
          "2021-08-06",
          "2021-08-07",
          "2021-08-08",
          "2021-08-09",
          "2021-08-10",
          "2021-08-11",
          "2021-08-12",
          "2021-08-13",
          "2021-08-14",
          "2021-08-15",
          "2021-08-16",
          "2021-08-17",
          "2021-08-18",
          "2021-08-19",
          "2021-08-20",
          "2021-08-21",
          "2021-08-22",
          "2021-08-23",
          "2021-08-24",
          "2021-08-25",
          "2021-08-26",
          "2021-08-27",
          "2021-08-28",
          "2021-08-29",
          "2021-08-30",
          "2021-08-31",
          "2021-09-01",
          "2021-09-02",
          "2021-09-03",
          "2021-09-04",
          "2021-09-05",
          "2021-09-06",
          "2021-09-07"
         ],
         "y": [
          23.92168,
          21.740979385185184,
          22.25397396470588,
          23.550425366666666,
          21.840884021459228,
          21.6014863836858,
          20.70385074506579,
          20.748690823665896,
          21.268596873353598,
          20.262263817232377,
          20.542709347588424,
          20.604826958179906,
          18.197174966244727,
          17.86716850561798,
          17.442761452054796,
          20.476831459646213,
          20.234754796992483,
          20.64050768042453,
          21.112512604316546,
          20.95779131358885,
          20.272681745704467,
          19.682611432343236,
          20.77553674860465,
          20.824428494138335,
          19.80318863240418,
          19.323531549565217,
          20.208289919931858,
          20.386699436521738,
          20.683238858882415,
          20.82013446208217,
          20.96522925427225,
          20.44331057474227,
          20.439927305580095,
          19.89720500544598,
          19.618111311819252,
          19.75718682344279,
          19.480748620309054,
          19.50120769636551,
          19.767252330929956,
          19.870905837038126,
          19.63240868727005,
          19.419183899043414,
          19.702560830267807,
          19.594645107064018,
          19.386469241719418,
          19.662824573289182,
          19.790700644455896,
          19.983899132043547,
          19.576991090567983,
          19.539549355344523,
          19.965946650073747,
          20.365014721346494,
          20.393839219154888,
          20.79520151215022,
          20.53161731117491,
          20.86913907318384,
          21.50305579407866,
          21.829746988068937,
          22.504761816794453,
          23.03432030246176,
          21.708090126915145,
          21.442419580338736,
          21.08105484911635,
          20.371287262627007,
          19.91501618761036,
          19.295671006222822,
          19.932314087576685,
          20.242477404739994,
          20.01825197384167,
          19.755655876188285,
          19.803085061944188,
          19.969558309402224,
          19.489827544973544,
          20.767655129352423,
          20.177783047167033,
          20.526293496171967,
          20.412322783747978,
          20.57789663826343,
          21.082879232140225,
          21.33987893681885,
          21.216073220430104,
          21.542177340209225,
          21.5914494804066,
          21.464175976744187,
          21.71729288211023,
          22.016489749373804,
          21.966876493886268,
          21.53360721921944,
          21.095997185133342,
          21.496717018259464,
          21.384907723236637,
          21.61281181952837,
          21.479755557454332,
          21.262646669320358,
          21.102574009133765,
          20.93141004475195,
          20.98550179089972,
          22.51914073724565,
          22.74125884295816,
          22.273362101579803,
          22.695699643057193,
          22.50425561965812,
          22.66350349822826,
          22.495956845348665,
          22.515186837459474,
          22.29670332138643,
          21.741527298378138,
          21.87402320751762,
          22.10769630094044,
          22.581532108457324,
          21.64161332719436,
          21.839668456538764,
          21.724017323540934,
          21.018978039138943,
          20.848363132784957,
          20.685553953461085,
          21.764028610458283,
          22.774322554488435,
          23.55036850685468,
          24.162657269623235,
          24.75589593958415,
          25.57015304356358,
          25.434115437769925,
          25.432762311568627,
          24.30547870439388,
          23.541394160784314,
          23.928736279106232,
          24.812836481161696,
          25.440125766875983,
          26.212526258045525,
          26.688075978389,
          26.49940502080063,
          26.340825975255303,
          26.623689838050314,
          26.999422110936273,
          27.604861433687525,
          28.631167582547167,
          29.191491326779396,
          29.496482083464567,
          29.550629871804954,
          27.376320155206287,
          25.851264928122543,
          24.624923224577934,
          24.99397761592301,
          25.672062957226018,
          26.75995069511269,
          27.002250989102887,
          26.804668007092197,
          26.479110519523328,
          25.04454722672065,
          24.11956871299903,
          24.471746740184482,
          25.43451759881657,
          25.507085028402365,
          24.640497651844843,
          24.91762627404074,
          25.259365191051135,
          24.860995405398832,
          24.82313587937559,
          25.084256844260356,
          24.941897282233263,
          25.271742503786086,
          24.33694506674556,
          23.328601110822305,
          22.873604364625205,
          22.77137940153664,
          23.438562200401986,
          24.969548244612835,
          25.138395174077576,
          25.273803322679925,
          25.82245616485078,
          26.121013065371862,
          26.42953891615348,
          25.715119627130683,
          26.292516964471815,
          26.517906028889414,
          26.26822832946471,
          26.394860395260665,
          26.311389516995483,
          26.54697440464345,
          26.24542838290315,
          25.695491431344696,
          25.088046925714288,
          24.031473529868116,
          24.567828910456587,
          24.710199128459898,
          24.655040468372423,
          24.647136415089875,
          24.72769718637654,
          24.4908084066714,
          24.356445814630682,
          24.859629862786846,
          25.370019335386072,
          25.744949036123995,
          26.644813915443038,
          27.05344159224531,
          25.691290763544302,
          23.91614039220648,
          23.347218321279332,
          22.907684614615988,
          23.185978304126984,
          23.97517116177149,
          23.925465906370505,
          23.40266407973243,
          23.803330884266376,
          24.10957100853321,
          23.396627069209472,
          22.950369413133643,
          22.581835483422868,
          21.91404606565812,
          21.784499959459463,
          22.01642584959035,
          21.83818825025792,
          22.77411276909466,
          23.6202939406167,
          24.031295619943904,
          24.635505872528768,
          24.952162134819844,
          24.46378019081272
         ],
         "z": [
          33.193264,
          36.46430325925926,
          42.4831378,
          43.18282156111111,
          43.073386330472104,
          39.73916807854985,
          40.55018678618421,
          42.3683786287703,
          42.49667501215806,
          42.707753054830285,
          37.85455355498392,
          38.698534541820095,
          43.57036223206751,
          41.712832674157305,
          41.52460845890411,
          37.27212980818132,
          40.7245256,
          41.79938260613208,
          45.24887603597122,
          47.45809722996516,
          46.86586209621993,
          46.04906645874587,
          38.45921589534884,
          35.98316322274326,
          42.11735092508711,
          44.362049156521735,
          46.21281412095401,
          45.83540631652174,
          29.841246714926044,
          29.70555654218819,
          30.214767931349442,
          31.852716271281295,
          29.908130806978797,
          28.697419856196646,
          28.036018046953195,
          27.873640269032542,
          28.988323414716703,
          29.852317760594467,
          30.92089454017069,
          30.815440687177976,
          31.088786867255333,
          30.900660413539367,
          31.209676972189524,
          31.583385587785138,
          31.724246107463564,
          30.86482427785136,
          29.786039972463552,
          28.739292105855522,
          29.300086939228958,
          29.595653218713192,
          29.558973659439527,
          29.57596518621096,
          30.65279802606007,
          30.724468944624448,
          30.689658648998822,
          29.768545251113498,
          29.20869136485491,
          28.603297384592725,
          28.562704603951637,
          30.01337441204589,
          30.608016221272834,
          29.585750959793813,
          29.12176390382916,
          29.103959287292003,
          28.451499141848146,
          28.375690499325234,
          27.304783857975462,
          27.175552311857647,
          28.91902697852102,
          30.142380793928243,
          29.31576033348666,
          28.251436632997898,
          28.667585112874782,
          26.956112861698664,
          27.310829311258278,
          26.96040005270907,
          27.49909009539232,
          28.996024817218544,
          29.59155848828988,
          29.771386815905743,
          28.652148874208276,
          28.017591705171654,
          27.80033260562758,
          27.345804392552253,
          25.884060830754493,
          25.157737876086635,
          25.119745795079552,
          27.183926407363767,
          27.629074479151317,
          27.17847407082904,
          27.19019121778825,
          26.439502530140015,
          27.12122048158515,
          27.900375005454812,
          27.804542274454917,
          28.372618157515088,
          28.093417524812253,
          28.1766060939251,
          31.015196678255744,
          32.940736163000146,
          32.706693026238206,
          32.48572898084291,
          32.36688643038535,
          32.85251766710895,
          32.75951424476864,
          33.696815290855454,
          34.64565339657854,
          33.71852952114331,
          33.43985057523511,
          32.04599155011746,
          33.122773619514106,
          32.80685077877838,
          32.67335947003525,
          33.823066882974565,
          34.71580915393655,
          35.67306144427063,
          34.066354842146495,
          32.986269715405726,
          32.574124066588325,
          31.92056269309262,
          30.998917897214596,
          30.64754852217425,
          34.121762001570474,
          37.8151129,
          39.63649214790114,
          39.2700391827451,
          38.76255984280674,
          37.06108264010989,
          37.027234782967035,
          36.08189165423862,
          37.73237939017682,
          38.39595882142857,
          35.762457219167324,
          34.155410873820756,
          35.76948580605822,
          36.06291457693821,
          36.42055269732705,
          37.7287904317735,
          37.32197632952756,
          37.59997408808494,
          40.10547586090373,
          39.069073452867244,
          39.41148997762073,
          38.941469622047244,
          36.294453486206024,
          35.307723611040764,
          36.206214509123164,
          40.29666520820669,
          40.97369601774848,
          41.50167024367409,
          40.52306525632912,
          39.08923904304636,
          38.641595255147934,
          39.327198390295855,
          41.603970986754966,
          40.73179352036949,
          38.888996363162875,
          40.230353810311286,
          40.622059026490064,
          40.31476848,
          40.515031669268986,
          41.07320059039281,
          44.31122403621302,
          48.29955850567108,
          49.11390681059353,
          48.14792990401891,
          45.901410711988646,
          43.85510229789249,
          43.58372677932829,
          41.0974487483428,
          39.65889393723354,
          39.49243443865467,
          39.38071494860256,
          40.937552719696974,
          40.38501754808148,
          40.77100944304996,
          41.67848719398389,
          41.03041471066351,
          40.133832861421446,
          38.48049915707178,
          38.86662919488516,
          39.86293510535038,
          40.87326557428571,
          42.13959432609258,
          40.704245464395555,
          40.59591369813106,
          41.83095647334755,
          41.66685193897824,
          41.15445506977294,
          40.71122540193991,
          42.180610596827655,
          42.85509970854034,
          42.176368698484126,
          42.61535873224311,
          41.315052729873415,
          40.93531995134313,
          42.23426254050633,
          42.27118867054656,
          43.2545399614272,
          45.100759546630094,
          46.29680662095238,
          44.21513507581116,
          44.880684432670066,
          46.86763868799016,
          43.327692550138416,
          40.56150473093481,
          42.16592694432482,
          42.89036877634408,
          43.63562206492709,
          44.63404264920903,
          46.919802418441975,
          46.987137403153504,
          46.62223920899042,
          44.26470695163668,
          43.319975146946,
          43.33463216784765,
          43.19449991546179,
          43.12205442483757,
          44.01513628268552
         ]
        },
        {
         "hovertemplate": "season=Winter<br>date=%{x}<br>celsius=%{y}<br>humidity=%{z}<extra></extra>",
         "legendgroup": "Winter",
         "marker": {
          "color": "#EF553B",
          "symbol": "circle"
         },
         "mode": "markers",
         "name": "Winter",
         "scene": "scene",
         "showlegend": true,
         "type": "scatter3d",
         "x": [
          "2020-11-01",
          "2020-11-02",
          "2020-11-03",
          "2020-11-04",
          "2020-11-05",
          "2020-11-06",
          "2020-11-07",
          "2020-11-08",
          "2020-11-09",
          "2020-11-10",
          "2020-11-11",
          "2020-11-12",
          "2020-11-13",
          "2020-11-14",
          "2020-11-16",
          "2020-11-17",
          "2020-11-18",
          "2020-11-19",
          "2020-11-20",
          "2020-11-21",
          "2020-11-22",
          "2020-11-23",
          "2020-11-24",
          "2020-11-25",
          "2020-11-26",
          "2020-11-27",
          "2020-11-28",
          "2020-11-29",
          "2020-11-30",
          "2020-12-01",
          "2020-12-02",
          "2020-12-03",
          "2020-12-04",
          "2020-12-05",
          "2020-12-06",
          "2020-12-07",
          "2020-12-08",
          "2020-12-09",
          "2020-12-10",
          "2020-12-11",
          "2020-12-12",
          "2020-12-13",
          "2020-12-14",
          "2020-12-15",
          "2020-12-16",
          "2020-12-17",
          "2020-12-18",
          "2020-12-19",
          "2020-12-20",
          "2020-12-21",
          "2020-12-22",
          "2020-12-23",
          "2020-12-24",
          "2020-12-25",
          "2020-12-26",
          "2020-12-27",
          "2020-12-28",
          "2020-12-29",
          "2020-12-30",
          "2020-12-31",
          "2021-01-01",
          "2021-01-02",
          "2021-01-03",
          "2021-01-04",
          "2021-01-05",
          "2021-01-06",
          "2021-01-07",
          "2021-01-08",
          "2021-01-09",
          "2021-01-10",
          "2021-01-11",
          "2021-01-12",
          "2021-01-13",
          "2021-01-14",
          "2021-01-15",
          "2021-01-16",
          "2021-01-17",
          "2021-01-18",
          "2021-01-19",
          "2021-01-20",
          "2021-01-21",
          "2021-01-22",
          "2021-01-23",
          "2021-01-24",
          "2021-01-25",
          "2021-01-26",
          "2021-01-27",
          "2021-01-28",
          "2021-01-29",
          "2021-01-30",
          "2021-01-31",
          "2021-02-01",
          "2021-02-02",
          "2021-02-03",
          "2021-02-04",
          "2021-02-05",
          "2021-02-06",
          "2021-02-07",
          "2021-02-08",
          "2021-02-09",
          "2021-02-10",
          "2021-02-11",
          "2021-02-12",
          "2021-02-13",
          "2021-02-14",
          "2021-02-15",
          "2021-02-16",
          "2021-02-17",
          "2021-02-18",
          "2021-02-19",
          "2021-02-20",
          "2021-02-21",
          "2021-02-22",
          "2021-02-23",
          "2021-02-24",
          "2021-02-25",
          "2021-02-26",
          "2021-02-27",
          "2021-02-28"
         ],
         "y": [
          20.20940187652174,
          20.966362151515153,
          20.679301314586993,
          20.160020074782608,
          19.26782167826087,
          21.352184159857906,
          19.610095450638795,
          19.32946157491289,
          20.02526233838973,
          20.72800024622532,
          20.90124801976744,
          20.498819373255813,
          20.572979639960433,
          20.18822725531915,
          20.741730513274337,
          20.57355263773148,
          20.469732379310344,
          20.100922549295774,
          20.459143109589043,
          19.831238330088496,
          19.63745437815126,
          20.114797414749386,
          19.60856795283019,
          20.18251862653563,
          20.258863533372594,
          20.53038321524347,
          20.354554229573854,
          19.856312974346565,
          19.809210574598072,
          20.567352370103617,
          20.54447888885619,
          20.6165309408284,
          20.471293927093843,
          20.217861833137288,
          19.971232826945705,
          20.234206844940868,
          20.300111632087326,
          20.145799661164006,
          20.07554804970805,
          19.59496755621346,
          19.303284730644688,
          19.370523733706047,
          19.942066995006513,
          20.163860796183744,
          19.87035427843719,
          19.984946497668833,
          19.938321516855655,
          19.522845488714513,
          19.296845935108447,
          18.968675228422356,
          18.99284774329806,
          19.015112398677246,
          18.776190897232507,
          18.616143699188424,
          18.49723278366232,
          18.164571353138225,
          18.103843678004935,
          17.9949975,
          17.968739366696035,
          17.788812771806167,
          17.847529082407895,
          17.70856755049435,
          17.519576263421932,
          18.474246750078816,
          19.255821216285927,
          19.418116319878983,
          19.38144115647059,
          19.46228332184923,
          18.751728763987042,
          18.631114577987052,
          19.070537810403177,
          19.325664440994704,
          18.99624145263313,
          19.00375163749813,
          19.306941759329202,
          19.431199445564218,
          19.39305375320088,
          19.79398848307081,
          19.615796241833433,
          19.729417092535336,
          19.818685647305657,
          19.975753232999708,
          19.65524942228437,
          19.361772906737276,
          19.32317680103017,
          19.33411646271736,
          19.100885414851337,
          19.124012284905106,
          19.51444368577104,
          19.112793923642784,
          18.917700842922308,
          19.276768821233986,
          19.410728125625184,
          19.283096091450854,
          19.46345636957481,
          19.86342107918752,
          19.802365524808597,
          19.23624571365509,
          18.85547248609885,
          18.57631897240618,
          18.394311261540746,
          18.69953812362112,
          18.781851893656167,
          18.792032739882266,
          19.040689477794118,
          18.983733875643857,
          19.487134183242606,
          20.016694654265507,
          20.14525907215432,
          20.30030656283108,
          20.35227464995583,
          20.682834496908125,
          20.76128213468336,
          21.05865161531664,
          21.413601056783033,
          21.434223667844524,
          21.124582645044377,
          20.459446760297045,
          20.61836094920976
         ],
         "z": [
          46.23973281043479,
          48.25478192837466,
          42.349334101933216,
          40.87659976347826,
          40.810590398260864,
          29.678812065719356,
          36.09864360511033,
          40.90618930197445,
          43.30504848424737,
          43.04289256445993,
          42.718568527906974,
          42.02630269534884,
          40.83411289812067,
          42.33224687234043,
          41.84807853628318,
          41.371031052469135,
          40.49226092329346,
          39.41095161197183,
          37.695115429589045,
          37.20405676725664,
          37.560688661211856,
          37.349316458093675,
          38.1059628490566,
          36.168184544226044,
          36.9997677008245,
          36.36577105998589,
          36.47190037744313,
          35.94376888964182,
          33.89768676109325,
          34.479472887035634,
          35.12489682970375,
          34.318717389994625,
          34.40374195627312,
          34.33494570694001,
          33.85495198066902,
          33.29183270351511,
          31.681480464583007,
          31.47369427027027,
          31.27246404870928,
          31.421496919502324,
          32.67466653974095,
          33.52521905164043,
          34.27402654841511,
          35.41596093469965,
          35.82270688766426,
          36.218906108929076,
          35.99053289564818,
          36.31139847469582,
          36.63372762140716,
          36.848825354085605,
          39.39269624074074,
          39.57951261216931,
          38.9832402942006,
          37.64762483609739,
          36.18863377194219,
          35.143105145451344,
          35.17381849101163,
          34.791098026445695,
          34.78694618220264,
          34.78042599277533,
          34.46369484082496,
          34.15118482238701,
          33.90146150519275,
          32.4319179574401,
          31.908326185261608,
          32.14466624881936,
          31.999204107794117,
          31.776201020170788,
          32.493805220995284,
          32.187786151412595,
          30.991827722630962,
          32.262139054738086,
          32.404300628125924,
          31.912303397698402,
          30.2804063926575,
          29.726149651905253,
          29.863353084621043,
          30.743249160312086,
          31.76001949529135,
          31.60864321805065,
          31.893550777826857,
          32.0925828737121,
          31.745428600677066,
          31.43313996763754,
          30.890378619131713,
          30.498577183023873,
          30.626708983956433,
          32.22213474488745,
          34.592017986756915,
          34.35792176533765,
          32.41336229017069,
          32.38753159195995,
          33.52096889129155,
          35.29742910888758,
          35.43349754097396,
          35.146894648660584,
          35.1968998221437,
          34.191579333872866,
          31.50627285775228,
          27.71401668388521,
          26.237421647023897,
          25.956837196058242,
          25.006937685604946,
          24.088705835467252,
          23.548043103823527,
          24.504686314790288,
          27.55637491599235,
          29.81801497568882,
          30.46982747018112,
          30.931922964537964,
          31.16921002591284,
          31.03229235379859,
          31.167935630191458,
          32.50322913240059,
          33.43010607718368,
          33.635287517226146,
          33.55116598905325,
          32.11438873510948,
          30.614884001381007
         ]
        }
       ],
       "layout": {
        "legend": {
         "title": {
          "text": "season"
         },
         "tracegroupgap": 0
        },
        "scene": {
         "domain": {
          "x": [
           0,
           1
          ],
          "y": [
           0,
           1
          ]
         },
         "xaxis": {
          "title": {
           "text": "date"
          }
         },
         "yaxis": {
          "title": {
           "text": "celsius"
          }
         },
         "zaxis": {
          "title": {
           "text": "humidity"
          }
         }
        },
        "template": {
         "data": {
          "bar": [
           {
            "error_x": {
             "color": "#2a3f5f"
            },
            "error_y": {
             "color": "#2a3f5f"
            },
            "marker": {
             "line": {
              "color": "#E5ECF6",
              "width": 0.5
             },
             "pattern": {
              "fillmode": "overlay",
              "size": 10,
              "solidity": 0.2
             }
            },
            "type": "bar"
           }
          ],
          "barpolar": [
           {
            "marker": {
             "line": {
              "color": "#E5ECF6",
              "width": 0.5
             },
             "pattern": {
              "fillmode": "overlay",
              "size": 10,
              "solidity": 0.2
             }
            },
            "type": "barpolar"
           }
          ],
          "carpet": [
           {
            "aaxis": {
             "endlinecolor": "#2a3f5f",
             "gridcolor": "white",
             "linecolor": "white",
             "minorgridcolor": "white",
             "startlinecolor": "#2a3f5f"
            },
            "baxis": {
             "endlinecolor": "#2a3f5f",
             "gridcolor": "white",
             "linecolor": "white",
             "minorgridcolor": "white",
             "startlinecolor": "#2a3f5f"
            },
            "type": "carpet"
           }
          ],
          "choropleth": [
           {
            "colorbar": {
             "outlinewidth": 0,
             "ticks": ""
            },
            "type": "choropleth"
           }
          ],
          "contour": [
           {
            "colorbar": {
             "outlinewidth": 0,
             "ticks": ""
            },
            "colorscale": [
             [
              0,
              "#0d0887"
             ],
             [
              0.1111111111111111,
              "#46039f"
             ],
             [
              0.2222222222222222,
              "#7201a8"
             ],
             [
              0.3333333333333333,
              "#9c179e"
             ],
             [
              0.4444444444444444,
              "#bd3786"
             ],
             [
              0.5555555555555556,
              "#d8576b"
             ],
             [
              0.6666666666666666,
              "#ed7953"
             ],
             [
              0.7777777777777778,
              "#fb9f3a"
             ],
             [
              0.8888888888888888,
              "#fdca26"
             ],
             [
              1,
              "#f0f921"
             ]
            ],
            "type": "contour"
           }
          ],
          "contourcarpet": [
           {
            "colorbar": {
             "outlinewidth": 0,
             "ticks": ""
            },
            "type": "contourcarpet"
           }
          ],
          "heatmap": [
           {
            "colorbar": {
             "outlinewidth": 0,
             "ticks": ""
            },
            "colorscale": [
             [
              0,
              "#0d0887"
             ],
             [
              0.1111111111111111,
              "#46039f"
             ],
             [
              0.2222222222222222,
              "#7201a8"
             ],
             [
              0.3333333333333333,
              "#9c179e"
             ],
             [
              0.4444444444444444,
              "#bd3786"
             ],
             [
              0.5555555555555556,
              "#d8576b"
             ],
             [
              0.6666666666666666,
              "#ed7953"
             ],
             [
              0.7777777777777778,
              "#fb9f3a"
             ],
             [
              0.8888888888888888,
              "#fdca26"
             ],
             [
              1,
              "#f0f921"
             ]
            ],
            "type": "heatmap"
           }
          ],
          "heatmapgl": [
           {
            "colorbar": {
             "outlinewidth": 0,
             "ticks": ""
            },
            "colorscale": [
             [
              0,
              "#0d0887"
             ],
             [
              0.1111111111111111,
              "#46039f"
             ],
             [
              0.2222222222222222,
              "#7201a8"
             ],
             [
              0.3333333333333333,
              "#9c179e"
             ],
             [
              0.4444444444444444,
              "#bd3786"
             ],
             [
              0.5555555555555556,
              "#d8576b"
             ],
             [
              0.6666666666666666,
              "#ed7953"
             ],
             [
              0.7777777777777778,
              "#fb9f3a"
             ],
             [
              0.8888888888888888,
              "#fdca26"
             ],
             [
              1,
              "#f0f921"
             ]
            ],
            "type": "heatmapgl"
           }
          ],
          "histogram": [
           {
            "marker": {
             "pattern": {
              "fillmode": "overlay",
              "size": 10,
              "solidity": 0.2
             }
            },
            "type": "histogram"
           }
          ],
          "histogram2d": [
           {
            "colorbar": {
             "outlinewidth": 0,
             "ticks": ""
            },
            "colorscale": [
             [
              0,
              "#0d0887"
             ],
             [
              0.1111111111111111,
              "#46039f"
             ],
             [
              0.2222222222222222,
              "#7201a8"
             ],
             [
              0.3333333333333333,
              "#9c179e"
             ],
             [
              0.4444444444444444,
              "#bd3786"
             ],
             [
              0.5555555555555556,
              "#d8576b"
             ],
             [
              0.6666666666666666,
              "#ed7953"
             ],
             [
              0.7777777777777778,
              "#fb9f3a"
             ],
             [
              0.8888888888888888,
              "#fdca26"
             ],
             [
              1,
              "#f0f921"
             ]
            ],
            "type": "histogram2d"
           }
          ],
          "histogram2dcontour": [
           {
            "colorbar": {
             "outlinewidth": 0,
             "ticks": ""
            },
            "colorscale": [
             [
              0,
              "#0d0887"
             ],
             [
              0.1111111111111111,
              "#46039f"
             ],
             [
              0.2222222222222222,
              "#7201a8"
             ],
             [
              0.3333333333333333,
              "#9c179e"
             ],
             [
              0.4444444444444444,
              "#bd3786"
             ],
             [
              0.5555555555555556,
              "#d8576b"
             ],
             [
              0.6666666666666666,
              "#ed7953"
             ],
             [
              0.7777777777777778,
              "#fb9f3a"
             ],
             [
              0.8888888888888888,
              "#fdca26"
             ],
             [
              1,
              "#f0f921"
             ]
            ],
            "type": "histogram2dcontour"
           }
          ],
          "mesh3d": [
           {
            "colorbar": {
             "outlinewidth": 0,
             "ticks": ""
            },
            "type": "mesh3d"
           }
          ],
          "parcoords": [
           {
            "line": {
             "colorbar": {
              "outlinewidth": 0,
              "ticks": ""
             }
            },
            "type": "parcoords"
           }
          ],
          "pie": [
           {
            "automargin": true,
            "type": "pie"
           }
          ],
          "scatter": [
           {
            "fillpattern": {
             "fillmode": "overlay",
             "size": 10,
             "solidity": 0.2
            },
            "type": "scatter"
           }
          ],
          "scatter3d": [
           {
            "line": {
             "colorbar": {
              "outlinewidth": 0,
              "ticks": ""
             }
            },
            "marker": {
             "colorbar": {
              "outlinewidth": 0,
              "ticks": ""
             }
            },
            "type": "scatter3d"
           }
          ],
          "scattercarpet": [
           {
            "marker": {
             "colorbar": {
              "outlinewidth": 0,
              "ticks": ""
             }
            },
            "type": "scattercarpet"
           }
          ],
          "scattergeo": [
           {
            "marker": {
             "colorbar": {
              "outlinewidth": 0,
              "ticks": ""
             }
            },
            "type": "scattergeo"
           }
          ],
          "scattergl": [
           {
            "marker": {
             "colorbar": {
              "outlinewidth": 0,
              "ticks": ""
             }
            },
            "type": "scattergl"
           }
          ],
          "scattermapbox": [
           {
            "marker": {
             "colorbar": {
              "outlinewidth": 0,
              "ticks": ""
             }
            },
            "type": "scattermapbox"
           }
          ],
          "scatterpolar": [
           {
            "marker": {
             "colorbar": {
              "outlinewidth": 0,
              "ticks": ""
             }
            },
            "type": "scatterpolar"
           }
          ],
          "scatterpolargl": [
           {
            "marker": {
             "colorbar": {
              "outlinewidth": 0,
              "ticks": ""
             }
            },
            "type": "scatterpolargl"
           }
          ],
          "scatterternary": [
           {
            "marker": {
             "colorbar": {
              "outlinewidth": 0,
              "ticks": ""
             }
            },
            "type": "scatterternary"
           }
          ],
          "surface": [
           {
            "colorbar": {
             "outlinewidth": 0,
             "ticks": ""
            },
            "colorscale": [
             [
              0,
              "#0d0887"
             ],
             [
              0.1111111111111111,
              "#46039f"
             ],
             [
              0.2222222222222222,
              "#7201a8"
             ],
             [
              0.3333333333333333,
              "#9c179e"
             ],
             [
              0.4444444444444444,
              "#bd3786"
             ],
             [
              0.5555555555555556,
              "#d8576b"
             ],
             [
              0.6666666666666666,
              "#ed7953"
             ],
             [
              0.7777777777777778,
              "#fb9f3a"
             ],
             [
              0.8888888888888888,
              "#fdca26"
             ],
             [
              1,
              "#f0f921"
             ]
            ],
            "type": "surface"
           }
          ],
          "table": [
           {
            "cells": {
             "fill": {
              "color": "#EBF0F8"
             },
             "line": {
              "color": "white"
             }
            },
            "header": {
             "fill": {
              "color": "#C8D4E3"
             },
             "line": {
              "color": "white"
             }
            },
            "type": "table"
           }
          ]
         },
         "layout": {
          "annotationdefaults": {
           "arrowcolor": "#2a3f5f",
           "arrowhead": 0,
           "arrowwidth": 1
          },
          "autotypenumbers": "strict",
          "coloraxis": {
           "colorbar": {
            "outlinewidth": 0,
            "ticks": ""
           }
          },
          "colorscale": {
           "diverging": [
            [
             0,
             "#8e0152"
            ],
            [
             0.1,
             "#c51b7d"
            ],
            [
             0.2,
             "#de77ae"
            ],
            [
             0.3,
             "#f1b6da"
            ],
            [
             0.4,
             "#fde0ef"
            ],
            [
             0.5,
             "#f7f7f7"
            ],
            [
             0.6,
             "#e6f5d0"
            ],
            [
             0.7,
             "#b8e186"
            ],
            [
             0.8,
             "#7fbc41"
            ],
            [
             0.9,
             "#4d9221"
            ],
            [
             1,
             "#276419"
            ]
           ],
           "sequential": [
            [
             0,
             "#0d0887"
            ],
            [
             0.1111111111111111,
             "#46039f"
            ],
            [
             0.2222222222222222,
             "#7201a8"
            ],
            [
             0.3333333333333333,
             "#9c179e"
            ],
            [
             0.4444444444444444,
             "#bd3786"
            ],
            [
             0.5555555555555556,
             "#d8576b"
            ],
            [
             0.6666666666666666,
             "#ed7953"
            ],
            [
             0.7777777777777778,
             "#fb9f3a"
            ],
            [
             0.8888888888888888,
             "#fdca26"
            ],
            [
             1,
             "#f0f921"
            ]
           ],
           "sequentialminus": [
            [
             0,
             "#0d0887"
            ],
            [
             0.1111111111111111,
             "#46039f"
            ],
            [
             0.2222222222222222,
             "#7201a8"
            ],
            [
             0.3333333333333333,
             "#9c179e"
            ],
            [
             0.4444444444444444,
             "#bd3786"
            ],
            [
             0.5555555555555556,
             "#d8576b"
            ],
            [
             0.6666666666666666,
             "#ed7953"
            ],
            [
             0.7777777777777778,
             "#fb9f3a"
            ],
            [
             0.8888888888888888,
             "#fdca26"
            ],
            [
             1,
             "#f0f921"
            ]
           ]
          },
          "colorway": [
           "#636efa",
           "#EF553B",
           "#00cc96",
           "#ab63fa",
           "#FFA15A",
           "#19d3f3",
           "#FF6692",
           "#B6E880",
           "#FF97FF",
           "#FECB52"
          ],
          "font": {
           "color": "#2a3f5f"
          },
          "geo": {
           "bgcolor": "white",
           "lakecolor": "white",
           "landcolor": "#E5ECF6",
           "showlakes": true,
           "showland": true,
           "subunitcolor": "white"
          },
          "hoverlabel": {
           "align": "left"
          },
          "hovermode": "closest",
          "mapbox": {
           "style": "light"
          },
          "paper_bgcolor": "white",
          "plot_bgcolor": "#E5ECF6",
          "polar": {
           "angularaxis": {
            "gridcolor": "white",
            "linecolor": "white",
            "ticks": ""
           },
           "bgcolor": "#E5ECF6",
           "radialaxis": {
            "gridcolor": "white",
            "linecolor": "white",
            "ticks": ""
           }
          },
          "scene": {
           "xaxis": {
            "backgroundcolor": "#E5ECF6",
            "gridcolor": "white",
            "gridwidth": 2,
            "linecolor": "white",
            "showbackground": true,
            "ticks": "",
            "zerolinecolor": "white"
           },
           "yaxis": {
            "backgroundcolor": "#E5ECF6",
            "gridcolor": "white",
            "gridwidth": 2,
            "linecolor": "white",
            "showbackground": true,
            "ticks": "",
            "zerolinecolor": "white"
           },
           "zaxis": {
            "backgroundcolor": "#E5ECF6",
            "gridcolor": "white",
            "gridwidth": 2,
            "linecolor": "white",
            "showbackground": true,
            "ticks": "",
            "zerolinecolor": "white"
           }
          },
          "shapedefaults": {
           "line": {
            "color": "#2a3f5f"
           }
          },
          "ternary": {
           "aaxis": {
            "gridcolor": "white",
            "linecolor": "white",
            "ticks": ""
           },
           "baxis": {
            "gridcolor": "white",
            "linecolor": "white",
            "ticks": ""
           },
           "bgcolor": "#E5ECF6",
           "caxis": {
            "gridcolor": "white",
            "linecolor": "white",
            "ticks": ""
           }
          },
          "title": {
           "x": 0.05
          },
          "xaxis": {
           "automargin": true,
           "gridcolor": "white",
           "linecolor": "white",
           "ticks": "",
           "title": {
            "standoff": 15
           },
           "zerolinecolor": "white",
           "zerolinewidth": 2
          },
          "yaxis": {
           "automargin": true,
           "gridcolor": "white",
           "linecolor": "white",
           "ticks": "",
           "title": {
            "standoff": 15
           },
           "zerolinecolor": "white",
           "zerolinewidth": 2
          }
         }
        },
        "title": {
         "text": "3D Scatter Plot"
        }
       }
      },
      "text/html": [
       "<div>                            <div id=\"97a53e82-d22e-4b1d-9fb6-94df42190c04\" class=\"plotly-graph-div\" style=\"height:525px; width:100%;\"></div>            <script type=\"text/javascript\">                require([\"plotly\"], function(Plotly) {                    window.PLOTLYENV=window.PLOTLYENV || {};                                    if (document.getElementById(\"97a53e82-d22e-4b1d-9fb6-94df42190c04\")) {                    Plotly.newPlot(                        \"97a53e82-d22e-4b1d-9fb6-94df42190c04\",                        [{\"hovertemplate\":\"season=Summer<br>date=%{x}<br>celsius=%{y}<br>humidity=%{z}<extra></extra>\",\"legendgroup\":\"Summer\",\"marker\":{\"color\":\"#636efa\",\"symbol\":\"circle\"},\"mode\":\"markers\",\"name\":\"Summer\",\"scene\":\"scene\",\"showlegend\":true,\"x\":[\"2020-09-25\",\"2020-09-28\",\"2020-09-29\",\"2020-09-30\",\"2020-10-01\",\"2020-10-02\",\"2020-10-05\",\"2020-10-06\",\"2020-10-07\",\"2020-10-12\",\"2020-10-13\",\"2020-10-14\",\"2020-10-15\",\"2020-10-17\",\"2020-10-18\",\"2020-10-19\",\"2020-10-20\",\"2020-10-21\",\"2020-10-22\",\"2020-10-23\",\"2020-10-24\",\"2020-10-25\",\"2020-10-26\",\"2020-10-27\",\"2020-10-28\",\"2020-10-29\",\"2020-10-30\",\"2020-10-31\",\"2021-03-01\",\"2021-03-02\",\"2021-03-03\",\"2021-03-04\",\"2021-03-05\",\"2021-03-06\",\"2021-03-07\",\"2021-03-08\",\"2021-03-09\",\"2021-03-10\",\"2021-03-11\",\"2021-03-12\",\"2021-03-13\",\"2021-03-14\",\"2021-03-15\",\"2021-03-16\",\"2021-03-17\",\"2021-03-18\",\"2021-03-19\",\"2021-03-20\",\"2021-03-21\",\"2021-03-22\",\"2021-03-23\",\"2021-03-24\",\"2021-03-25\",\"2021-03-26\",\"2021-03-27\",\"2021-03-28\",\"2021-03-29\",\"2021-03-30\",\"2021-03-31\",\"2021-04-01\",\"2021-04-02\",\"2021-04-03\",\"2021-04-04\",\"2021-04-05\",\"2021-04-06\",\"2021-04-07\",\"2021-04-08\",\"2021-04-09\",\"2021-04-10\",\"2021-04-11\",\"2021-04-12\",\"2021-04-13\",\"2021-04-14\",\"2021-04-15\",\"2021-04-16\",\"2021-04-17\",\"2021-04-18\",\"2021-04-19\",\"2021-04-20\",\"2021-04-21\",\"2021-04-22\",\"2021-04-23\",\"2021-04-24\",\"2021-04-25\",\"2021-04-26\",\"2021-04-27\",\"2021-04-28\",\"2021-04-29\",\"2021-04-30\",\"2021-05-01\",\"2021-05-02\",\"2021-05-03\",\"2021-05-04\",\"2021-05-05\",\"2021-05-06\",\"2021-05-07\",\"2021-05-08\",\"2021-05-09\",\"2021-05-10\",\"2021-05-11\",\"2021-05-12\",\"2021-05-13\",\"2021-05-14\",\"2021-05-15\",\"2021-05-16\",\"2021-05-17\",\"2021-05-18\",\"2021-05-19\",\"2021-05-20\",\"2021-05-21\",\"2021-05-22\",\"2021-05-23\",\"2021-05-24\",\"2021-05-25\",\"2021-05-26\",\"2021-05-27\",\"2021-05-28\",\"2021-05-29\",\"2021-05-30\",\"2021-05-31\",\"2021-06-01\",\"2021-06-02\",\"2021-06-03\",\"2021-06-04\",\"2021-06-05\",\"2021-06-06\",\"2021-06-07\",\"2021-06-08\",\"2021-06-09\",\"2021-06-10\",\"2021-06-11\",\"2021-06-12\",\"2021-06-13\",\"2021-06-14\",\"2021-06-15\",\"2021-06-16\",\"2021-06-17\",\"2021-06-18\",\"2021-06-19\",\"2021-06-20\",\"2021-06-21\",\"2021-06-22\",\"2021-06-23\",\"2021-06-24\",\"2021-06-25\",\"2021-06-26\",\"2021-06-27\",\"2021-06-28\",\"2021-06-29\",\"2021-06-30\",\"2021-07-01\",\"2021-07-02\",\"2021-07-03\",\"2021-07-04\",\"2021-07-05\",\"2021-07-06\",\"2021-07-07\",\"2021-07-08\",\"2021-07-09\",\"2021-07-10\",\"2021-07-11\",\"2021-07-12\",\"2021-07-13\",\"2021-07-14\",\"2021-07-15\",\"2021-07-16\",\"2021-07-17\",\"2021-07-18\",\"2021-07-19\",\"2021-07-20\",\"2021-07-21\",\"2021-07-22\",\"2021-07-23\",\"2021-07-24\",\"2021-07-25\",\"2021-07-26\",\"2021-07-27\",\"2021-07-28\",\"2021-07-29\",\"2021-07-30\",\"2021-07-31\",\"2021-08-01\",\"2021-08-02\",\"2021-08-03\",\"2021-08-04\",\"2021-08-05\",\"2021-08-06\",\"2021-08-07\",\"2021-08-08\",\"2021-08-09\",\"2021-08-10\",\"2021-08-11\",\"2021-08-12\",\"2021-08-13\",\"2021-08-14\",\"2021-08-15\",\"2021-08-16\",\"2021-08-17\",\"2021-08-18\",\"2021-08-19\",\"2021-08-20\",\"2021-08-21\",\"2021-08-22\",\"2021-08-23\",\"2021-08-24\",\"2021-08-25\",\"2021-08-26\",\"2021-08-27\",\"2021-08-28\",\"2021-08-29\",\"2021-08-30\",\"2021-08-31\",\"2021-09-01\",\"2021-09-02\",\"2021-09-03\",\"2021-09-04\",\"2021-09-05\",\"2021-09-06\",\"2021-09-07\"],\"y\":[23.92168,21.740979385185184,22.25397396470588,23.550425366666666,21.840884021459228,21.6014863836858,20.70385074506579,20.748690823665896,21.268596873353598,20.262263817232377,20.542709347588424,20.604826958179906,18.197174966244727,17.86716850561798,17.442761452054796,20.476831459646213,20.234754796992483,20.64050768042453,21.112512604316546,20.95779131358885,20.272681745704467,19.682611432343236,20.77553674860465,20.824428494138335,19.80318863240418,19.323531549565217,20.208289919931858,20.386699436521738,20.683238858882415,20.82013446208217,20.96522925427225,20.44331057474227,20.439927305580095,19.89720500544598,19.618111311819252,19.75718682344279,19.480748620309054,19.50120769636551,19.767252330929956,19.870905837038126,19.63240868727005,19.419183899043414,19.702560830267807,19.594645107064018,19.386469241719418,19.662824573289182,19.790700644455896,19.983899132043547,19.576991090567983,19.539549355344523,19.965946650073747,20.365014721346494,20.393839219154888,20.79520151215022,20.53161731117491,20.86913907318384,21.50305579407866,21.829746988068937,22.504761816794453,23.03432030246176,21.708090126915145,21.442419580338736,21.08105484911635,20.371287262627007,19.91501618761036,19.295671006222822,19.932314087576685,20.242477404739994,20.01825197384167,19.755655876188285,19.803085061944188,19.969558309402224,19.489827544973544,20.767655129352423,20.177783047167033,20.526293496171967,20.412322783747978,20.57789663826343,21.082879232140225,21.33987893681885,21.216073220430104,21.542177340209225,21.5914494804066,21.464175976744187,21.71729288211023,22.016489749373804,21.966876493886268,21.53360721921944,21.095997185133342,21.496717018259464,21.384907723236637,21.61281181952837,21.479755557454332,21.262646669320358,21.102574009133765,20.93141004475195,20.98550179089972,22.51914073724565,22.74125884295816,22.273362101579803,22.695699643057193,22.50425561965812,22.66350349822826,22.495956845348665,22.515186837459474,22.29670332138643,21.741527298378138,21.87402320751762,22.10769630094044,22.581532108457324,21.64161332719436,21.839668456538764,21.724017323540934,21.018978039138943,20.848363132784957,20.685553953461085,21.764028610458283,22.774322554488435,23.55036850685468,24.162657269623235,24.75589593958415,25.57015304356358,25.434115437769925,25.432762311568627,24.30547870439388,23.541394160784314,23.928736279106232,24.812836481161696,25.440125766875983,26.212526258045525,26.688075978389,26.49940502080063,26.340825975255303,26.623689838050314,26.999422110936273,27.604861433687525,28.631167582547167,29.191491326779396,29.496482083464567,29.550629871804954,27.376320155206287,25.851264928122543,24.624923224577934,24.99397761592301,25.672062957226018,26.75995069511269,27.002250989102887,26.804668007092197,26.479110519523328,25.04454722672065,24.11956871299903,24.471746740184482,25.43451759881657,25.507085028402365,24.640497651844843,24.91762627404074,25.259365191051135,24.860995405398832,24.82313587937559,25.084256844260356,24.941897282233263,25.271742503786086,24.33694506674556,23.328601110822305,22.873604364625205,22.77137940153664,23.438562200401986,24.969548244612835,25.138395174077576,25.273803322679925,25.82245616485078,26.121013065371862,26.42953891615348,25.715119627130683,26.292516964471815,26.517906028889414,26.26822832946471,26.394860395260665,26.311389516995483,26.54697440464345,26.24542838290315,25.695491431344696,25.088046925714288,24.031473529868116,24.567828910456587,24.710199128459898,24.655040468372423,24.647136415089875,24.72769718637654,24.4908084066714,24.356445814630682,24.859629862786846,25.370019335386072,25.744949036123995,26.644813915443038,27.05344159224531,25.691290763544302,23.91614039220648,23.347218321279332,22.907684614615988,23.185978304126984,23.97517116177149,23.925465906370505,23.40266407973243,23.803330884266376,24.10957100853321,23.396627069209472,22.950369413133643,22.581835483422868,21.91404606565812,21.784499959459463,22.01642584959035,21.83818825025792,22.77411276909466,23.6202939406167,24.031295619943904,24.635505872528768,24.952162134819844,24.46378019081272],\"z\":[33.193264,36.46430325925926,42.4831378,43.18282156111111,43.073386330472104,39.73916807854985,40.55018678618421,42.3683786287703,42.49667501215806,42.707753054830285,37.85455355498392,38.698534541820095,43.57036223206751,41.712832674157305,41.52460845890411,37.27212980818132,40.7245256,41.79938260613208,45.24887603597122,47.45809722996516,46.86586209621993,46.04906645874587,38.45921589534884,35.98316322274326,42.11735092508711,44.362049156521735,46.21281412095401,45.83540631652174,29.841246714926044,29.70555654218819,30.214767931349442,31.852716271281295,29.908130806978797,28.697419856196646,28.036018046953195,27.873640269032542,28.988323414716703,29.852317760594467,30.92089454017069,30.815440687177976,31.088786867255333,30.900660413539367,31.209676972189524,31.583385587785138,31.724246107463564,30.86482427785136,29.786039972463552,28.739292105855522,29.300086939228958,29.595653218713192,29.558973659439527,29.57596518621096,30.65279802606007,30.724468944624448,30.689658648998822,29.768545251113498,29.20869136485491,28.603297384592725,28.562704603951637,30.01337441204589,30.608016221272834,29.585750959793813,29.12176390382916,29.103959287292003,28.451499141848146,28.375690499325234,27.304783857975462,27.175552311857647,28.91902697852102,30.142380793928243,29.31576033348666,28.251436632997898,28.667585112874782,26.956112861698664,27.310829311258278,26.96040005270907,27.49909009539232,28.996024817218544,29.59155848828988,29.771386815905743,28.652148874208276,28.017591705171654,27.80033260562758,27.345804392552253,25.884060830754493,25.157737876086635,25.119745795079552,27.183926407363767,27.629074479151317,27.17847407082904,27.19019121778825,26.439502530140015,27.12122048158515,27.900375005454812,27.804542274454917,28.372618157515088,28.093417524812253,28.1766060939251,31.015196678255744,32.940736163000146,32.706693026238206,32.48572898084291,32.36688643038535,32.85251766710895,32.75951424476864,33.696815290855454,34.64565339657854,33.71852952114331,33.43985057523511,32.04599155011746,33.122773619514106,32.80685077877838,32.67335947003525,33.823066882974565,34.71580915393655,35.67306144427063,34.066354842146495,32.986269715405726,32.574124066588325,31.92056269309262,30.998917897214596,30.64754852217425,34.121762001570474,37.8151129,39.63649214790114,39.2700391827451,38.76255984280674,37.06108264010989,37.027234782967035,36.08189165423862,37.73237939017682,38.39595882142857,35.762457219167324,34.155410873820756,35.76948580605822,36.06291457693821,36.42055269732705,37.7287904317735,37.32197632952756,37.59997408808494,40.10547586090373,39.069073452867244,39.41148997762073,38.941469622047244,36.294453486206024,35.307723611040764,36.206214509123164,40.29666520820669,40.97369601774848,41.50167024367409,40.52306525632912,39.08923904304636,38.641595255147934,39.327198390295855,41.603970986754966,40.73179352036949,38.888996363162875,40.230353810311286,40.622059026490064,40.31476848,40.515031669268986,41.07320059039281,44.31122403621302,48.29955850567108,49.11390681059353,48.14792990401891,45.901410711988646,43.85510229789249,43.58372677932829,41.0974487483428,39.65889393723354,39.49243443865467,39.38071494860256,40.937552719696974,40.38501754808148,40.77100944304996,41.67848719398389,41.03041471066351,40.133832861421446,38.48049915707178,38.86662919488516,39.86293510535038,40.87326557428571,42.13959432609258,40.704245464395555,40.59591369813106,41.83095647334755,41.66685193897824,41.15445506977294,40.71122540193991,42.180610596827655,42.85509970854034,42.176368698484126,42.61535873224311,41.315052729873415,40.93531995134313,42.23426254050633,42.27118867054656,43.2545399614272,45.100759546630094,46.29680662095238,44.21513507581116,44.880684432670066,46.86763868799016,43.327692550138416,40.56150473093481,42.16592694432482,42.89036877634408,43.63562206492709,44.63404264920903,46.919802418441975,46.987137403153504,46.62223920899042,44.26470695163668,43.319975146946,43.33463216784765,43.19449991546179,43.12205442483757,44.01513628268552],\"type\":\"scatter3d\"},{\"hovertemplate\":\"season=Winter<br>date=%{x}<br>celsius=%{y}<br>humidity=%{z}<extra></extra>\",\"legendgroup\":\"Winter\",\"marker\":{\"color\":\"#EF553B\",\"symbol\":\"circle\"},\"mode\":\"markers\",\"name\":\"Winter\",\"scene\":\"scene\",\"showlegend\":true,\"x\":[\"2020-11-01\",\"2020-11-02\",\"2020-11-03\",\"2020-11-04\",\"2020-11-05\",\"2020-11-06\",\"2020-11-07\",\"2020-11-08\",\"2020-11-09\",\"2020-11-10\",\"2020-11-11\",\"2020-11-12\",\"2020-11-13\",\"2020-11-14\",\"2020-11-16\",\"2020-11-17\",\"2020-11-18\",\"2020-11-19\",\"2020-11-20\",\"2020-11-21\",\"2020-11-22\",\"2020-11-23\",\"2020-11-24\",\"2020-11-25\",\"2020-11-26\",\"2020-11-27\",\"2020-11-28\",\"2020-11-29\",\"2020-11-30\",\"2020-12-01\",\"2020-12-02\",\"2020-12-03\",\"2020-12-04\",\"2020-12-05\",\"2020-12-06\",\"2020-12-07\",\"2020-12-08\",\"2020-12-09\",\"2020-12-10\",\"2020-12-11\",\"2020-12-12\",\"2020-12-13\",\"2020-12-14\",\"2020-12-15\",\"2020-12-16\",\"2020-12-17\",\"2020-12-18\",\"2020-12-19\",\"2020-12-20\",\"2020-12-21\",\"2020-12-22\",\"2020-12-23\",\"2020-12-24\",\"2020-12-25\",\"2020-12-26\",\"2020-12-27\",\"2020-12-28\",\"2020-12-29\",\"2020-12-30\",\"2020-12-31\",\"2021-01-01\",\"2021-01-02\",\"2021-01-03\",\"2021-01-04\",\"2021-01-05\",\"2021-01-06\",\"2021-01-07\",\"2021-01-08\",\"2021-01-09\",\"2021-01-10\",\"2021-01-11\",\"2021-01-12\",\"2021-01-13\",\"2021-01-14\",\"2021-01-15\",\"2021-01-16\",\"2021-01-17\",\"2021-01-18\",\"2021-01-19\",\"2021-01-20\",\"2021-01-21\",\"2021-01-22\",\"2021-01-23\",\"2021-01-24\",\"2021-01-25\",\"2021-01-26\",\"2021-01-27\",\"2021-01-28\",\"2021-01-29\",\"2021-01-30\",\"2021-01-31\",\"2021-02-01\",\"2021-02-02\",\"2021-02-03\",\"2021-02-04\",\"2021-02-05\",\"2021-02-06\",\"2021-02-07\",\"2021-02-08\",\"2021-02-09\",\"2021-02-10\",\"2021-02-11\",\"2021-02-12\",\"2021-02-13\",\"2021-02-14\",\"2021-02-15\",\"2021-02-16\",\"2021-02-17\",\"2021-02-18\",\"2021-02-19\",\"2021-02-20\",\"2021-02-21\",\"2021-02-22\",\"2021-02-23\",\"2021-02-24\",\"2021-02-25\",\"2021-02-26\",\"2021-02-27\",\"2021-02-28\"],\"y\":[20.20940187652174,20.966362151515153,20.679301314586993,20.160020074782608,19.26782167826087,21.352184159857906,19.610095450638795,19.32946157491289,20.02526233838973,20.72800024622532,20.90124801976744,20.498819373255813,20.572979639960433,20.18822725531915,20.741730513274337,20.57355263773148,20.469732379310344,20.100922549295774,20.459143109589043,19.831238330088496,19.63745437815126,20.114797414749386,19.60856795283019,20.18251862653563,20.258863533372594,20.53038321524347,20.354554229573854,19.856312974346565,19.809210574598072,20.567352370103617,20.54447888885619,20.6165309408284,20.471293927093843,20.217861833137288,19.971232826945705,20.234206844940868,20.300111632087326,20.145799661164006,20.07554804970805,19.59496755621346,19.303284730644688,19.370523733706047,19.942066995006513,20.163860796183744,19.87035427843719,19.984946497668833,19.938321516855655,19.522845488714513,19.296845935108447,18.968675228422356,18.99284774329806,19.015112398677246,18.776190897232507,18.616143699188424,18.49723278366232,18.164571353138225,18.103843678004935,17.9949975,17.968739366696035,17.788812771806167,17.847529082407895,17.70856755049435,17.519576263421932,18.474246750078816,19.255821216285927,19.418116319878983,19.38144115647059,19.46228332184923,18.751728763987042,18.631114577987052,19.070537810403177,19.325664440994704,18.99624145263313,19.00375163749813,19.306941759329202,19.431199445564218,19.39305375320088,19.79398848307081,19.615796241833433,19.729417092535336,19.818685647305657,19.975753232999708,19.65524942228437,19.361772906737276,19.32317680103017,19.33411646271736,19.100885414851337,19.124012284905106,19.51444368577104,19.112793923642784,18.917700842922308,19.276768821233986,19.410728125625184,19.283096091450854,19.46345636957481,19.86342107918752,19.802365524808597,19.23624571365509,18.85547248609885,18.57631897240618,18.394311261540746,18.69953812362112,18.781851893656167,18.792032739882266,19.040689477794118,18.983733875643857,19.487134183242606,20.016694654265507,20.14525907215432,20.30030656283108,20.35227464995583,20.682834496908125,20.76128213468336,21.05865161531664,21.413601056783033,21.434223667844524,21.124582645044377,20.459446760297045,20.61836094920976],\"z\":[46.23973281043479,48.25478192837466,42.349334101933216,40.87659976347826,40.810590398260864,29.678812065719356,36.09864360511033,40.90618930197445,43.30504848424737,43.04289256445993,42.718568527906974,42.02630269534884,40.83411289812067,42.33224687234043,41.84807853628318,41.371031052469135,40.49226092329346,39.41095161197183,37.695115429589045,37.20405676725664,37.560688661211856,37.349316458093675,38.1059628490566,36.168184544226044,36.9997677008245,36.36577105998589,36.47190037744313,35.94376888964182,33.89768676109325,34.479472887035634,35.12489682970375,34.318717389994625,34.40374195627312,34.33494570694001,33.85495198066902,33.29183270351511,31.681480464583007,31.47369427027027,31.27246404870928,31.421496919502324,32.67466653974095,33.52521905164043,34.27402654841511,35.41596093469965,35.82270688766426,36.218906108929076,35.99053289564818,36.31139847469582,36.63372762140716,36.848825354085605,39.39269624074074,39.57951261216931,38.9832402942006,37.64762483609739,36.18863377194219,35.143105145451344,35.17381849101163,34.791098026445695,34.78694618220264,34.78042599277533,34.46369484082496,34.15118482238701,33.90146150519275,32.4319179574401,31.908326185261608,32.14466624881936,31.999204107794117,31.776201020170788,32.493805220995284,32.187786151412595,30.991827722630962,32.262139054738086,32.404300628125924,31.912303397698402,30.2804063926575,29.726149651905253,29.863353084621043,30.743249160312086,31.76001949529135,31.60864321805065,31.893550777826857,32.0925828737121,31.745428600677066,31.43313996763754,30.890378619131713,30.498577183023873,30.626708983956433,32.22213474488745,34.592017986756915,34.35792176533765,32.41336229017069,32.38753159195995,33.52096889129155,35.29742910888758,35.43349754097396,35.146894648660584,35.1968998221437,34.191579333872866,31.50627285775228,27.71401668388521,26.237421647023897,25.956837196058242,25.006937685604946,24.088705835467252,23.548043103823527,24.504686314790288,27.55637491599235,29.81801497568882,30.46982747018112,30.931922964537964,31.16921002591284,31.03229235379859,31.167935630191458,32.50322913240059,33.43010607718368,33.635287517226146,33.55116598905325,32.11438873510948,30.614884001381007],\"type\":\"scatter3d\"}],                        {\"template\":{\"data\":{\"histogram2dcontour\":[{\"type\":\"histogram2dcontour\",\"colorbar\":{\"outlinewidth\":0,\"ticks\":\"\"},\"colorscale\":[[0.0,\"#0d0887\"],[0.1111111111111111,\"#46039f\"],[0.2222222222222222,\"#7201a8\"],[0.3333333333333333,\"#9c179e\"],[0.4444444444444444,\"#bd3786\"],[0.5555555555555556,\"#d8576b\"],[0.6666666666666666,\"#ed7953\"],[0.7777777777777778,\"#fb9f3a\"],[0.8888888888888888,\"#fdca26\"],[1.0,\"#f0f921\"]]}],\"choropleth\":[{\"type\":\"choropleth\",\"colorbar\":{\"outlinewidth\":0,\"ticks\":\"\"}}],\"histogram2d\":[{\"type\":\"histogram2d\",\"colorbar\":{\"outlinewidth\":0,\"ticks\":\"\"},\"colorscale\":[[0.0,\"#0d0887\"],[0.1111111111111111,\"#46039f\"],[0.2222222222222222,\"#7201a8\"],[0.3333333333333333,\"#9c179e\"],[0.4444444444444444,\"#bd3786\"],[0.5555555555555556,\"#d8576b\"],[0.6666666666666666,\"#ed7953\"],[0.7777777777777778,\"#fb9f3a\"],[0.8888888888888888,\"#fdca26\"],[1.0,\"#f0f921\"]]}],\"heatmap\":[{\"type\":\"heatmap\",\"colorbar\":{\"outlinewidth\":0,\"ticks\":\"\"},\"colorscale\":[[0.0,\"#0d0887\"],[0.1111111111111111,\"#46039f\"],[0.2222222222222222,\"#7201a8\"],[0.3333333333333333,\"#9c179e\"],[0.4444444444444444,\"#bd3786\"],[0.5555555555555556,\"#d8576b\"],[0.6666666666666666,\"#ed7953\"],[0.7777777777777778,\"#fb9f3a\"],[0.8888888888888888,\"#fdca26\"],[1.0,\"#f0f921\"]]}],\"heatmapgl\":[{\"type\":\"heatmapgl\",\"colorbar\":{\"outlinewidth\":0,\"ticks\":\"\"},\"colorscale\":[[0.0,\"#0d0887\"],[0.1111111111111111,\"#46039f\"],[0.2222222222222222,\"#7201a8\"],[0.3333333333333333,\"#9c179e\"],[0.4444444444444444,\"#bd3786\"],[0.5555555555555556,\"#d8576b\"],[0.6666666666666666,\"#ed7953\"],[0.7777777777777778,\"#fb9f3a\"],[0.8888888888888888,\"#fdca26\"],[1.0,\"#f0f921\"]]}],\"contourcarpet\":[{\"type\":\"contourcarpet\",\"colorbar\":{\"outlinewidth\":0,\"ticks\":\"\"}}],\"contour\":[{\"type\":\"contour\",\"colorbar\":{\"outlinewidth\":0,\"ticks\":\"\"},\"colorscale\":[[0.0,\"#0d0887\"],[0.1111111111111111,\"#46039f\"],[0.2222222222222222,\"#7201a8\"],[0.3333333333333333,\"#9c179e\"],[0.4444444444444444,\"#bd3786\"],[0.5555555555555556,\"#d8576b\"],[0.6666666666666666,\"#ed7953\"],[0.7777777777777778,\"#fb9f3a\"],[0.8888888888888888,\"#fdca26\"],[1.0,\"#f0f921\"]]}],\"surface\":[{\"type\":\"surface\",\"colorbar\":{\"outlinewidth\":0,\"ticks\":\"\"},\"colorscale\":[[0.0,\"#0d0887\"],[0.1111111111111111,\"#46039f\"],[0.2222222222222222,\"#7201a8\"],[0.3333333333333333,\"#9c179e\"],[0.4444444444444444,\"#bd3786\"],[0.5555555555555556,\"#d8576b\"],[0.6666666666666666,\"#ed7953\"],[0.7777777777777778,\"#fb9f3a\"],[0.8888888888888888,\"#fdca26\"],[1.0,\"#f0f921\"]]}],\"mesh3d\":[{\"type\":\"mesh3d\",\"colorbar\":{\"outlinewidth\":0,\"ticks\":\"\"}}],\"scatter\":[{\"fillpattern\":{\"fillmode\":\"overlay\",\"size\":10,\"solidity\":0.2},\"type\":\"scatter\"}],\"parcoords\":[{\"type\":\"parcoords\",\"line\":{\"colorbar\":{\"outlinewidth\":0,\"ticks\":\"\"}}}],\"scatterpolargl\":[{\"type\":\"scatterpolargl\",\"marker\":{\"colorbar\":{\"outlinewidth\":0,\"ticks\":\"\"}}}],\"bar\":[{\"error_x\":{\"color\":\"#2a3f5f\"},\"error_y\":{\"color\":\"#2a3f5f\"},\"marker\":{\"line\":{\"color\":\"#E5ECF6\",\"width\":0.5},\"pattern\":{\"fillmode\":\"overlay\",\"size\":10,\"solidity\":0.2}},\"type\":\"bar\"}],\"scattergeo\":[{\"type\":\"scattergeo\",\"marker\":{\"colorbar\":{\"outlinewidth\":0,\"ticks\":\"\"}}}],\"scatterpolar\":[{\"type\":\"scatterpolar\",\"marker\":{\"colorbar\":{\"outlinewidth\":0,\"ticks\":\"\"}}}],\"histogram\":[{\"marker\":{\"pattern\":{\"fillmode\":\"overlay\",\"size\":10,\"solidity\":0.2}},\"type\":\"histogram\"}],\"scattergl\":[{\"type\":\"scattergl\",\"marker\":{\"colorbar\":{\"outlinewidth\":0,\"ticks\":\"\"}}}],\"scatter3d\":[{\"type\":\"scatter3d\",\"line\":{\"colorbar\":{\"outlinewidth\":0,\"ticks\":\"\"}},\"marker\":{\"colorbar\":{\"outlinewidth\":0,\"ticks\":\"\"}}}],\"scattermapbox\":[{\"type\":\"scattermapbox\",\"marker\":{\"colorbar\":{\"outlinewidth\":0,\"ticks\":\"\"}}}],\"scatterternary\":[{\"type\":\"scatterternary\",\"marker\":{\"colorbar\":{\"outlinewidth\":0,\"ticks\":\"\"}}}],\"scattercarpet\":[{\"type\":\"scattercarpet\",\"marker\":{\"colorbar\":{\"outlinewidth\":0,\"ticks\":\"\"}}}],\"carpet\":[{\"aaxis\":{\"endlinecolor\":\"#2a3f5f\",\"gridcolor\":\"white\",\"linecolor\":\"white\",\"minorgridcolor\":\"white\",\"startlinecolor\":\"#2a3f5f\"},\"baxis\":{\"endlinecolor\":\"#2a3f5f\",\"gridcolor\":\"white\",\"linecolor\":\"white\",\"minorgridcolor\":\"white\",\"startlinecolor\":\"#2a3f5f\"},\"type\":\"carpet\"}],\"table\":[{\"cells\":{\"fill\":{\"color\":\"#EBF0F8\"},\"line\":{\"color\":\"white\"}},\"header\":{\"fill\":{\"color\":\"#C8D4E3\"},\"line\":{\"color\":\"white\"}},\"type\":\"table\"}],\"barpolar\":[{\"marker\":{\"line\":{\"color\":\"#E5ECF6\",\"width\":0.5},\"pattern\":{\"fillmode\":\"overlay\",\"size\":10,\"solidity\":0.2}},\"type\":\"barpolar\"}],\"pie\":[{\"automargin\":true,\"type\":\"pie\"}]},\"layout\":{\"autotypenumbers\":\"strict\",\"colorway\":[\"#636efa\",\"#EF553B\",\"#00cc96\",\"#ab63fa\",\"#FFA15A\",\"#19d3f3\",\"#FF6692\",\"#B6E880\",\"#FF97FF\",\"#FECB52\"],\"font\":{\"color\":\"#2a3f5f\"},\"hovermode\":\"closest\",\"hoverlabel\":{\"align\":\"left\"},\"paper_bgcolor\":\"white\",\"plot_bgcolor\":\"#E5ECF6\",\"polar\":{\"bgcolor\":\"#E5ECF6\",\"angularaxis\":{\"gridcolor\":\"white\",\"linecolor\":\"white\",\"ticks\":\"\"},\"radialaxis\":{\"gridcolor\":\"white\",\"linecolor\":\"white\",\"ticks\":\"\"}},\"ternary\":{\"bgcolor\":\"#E5ECF6\",\"aaxis\":{\"gridcolor\":\"white\",\"linecolor\":\"white\",\"ticks\":\"\"},\"baxis\":{\"gridcolor\":\"white\",\"linecolor\":\"white\",\"ticks\":\"\"},\"caxis\":{\"gridcolor\":\"white\",\"linecolor\":\"white\",\"ticks\":\"\"}},\"coloraxis\":{\"colorbar\":{\"outlinewidth\":0,\"ticks\":\"\"}},\"colorscale\":{\"sequential\":[[0.0,\"#0d0887\"],[0.1111111111111111,\"#46039f\"],[0.2222222222222222,\"#7201a8\"],[0.3333333333333333,\"#9c179e\"],[0.4444444444444444,\"#bd3786\"],[0.5555555555555556,\"#d8576b\"],[0.6666666666666666,\"#ed7953\"],[0.7777777777777778,\"#fb9f3a\"],[0.8888888888888888,\"#fdca26\"],[1.0,\"#f0f921\"]],\"sequentialminus\":[[0.0,\"#0d0887\"],[0.1111111111111111,\"#46039f\"],[0.2222222222222222,\"#7201a8\"],[0.3333333333333333,\"#9c179e\"],[0.4444444444444444,\"#bd3786\"],[0.5555555555555556,\"#d8576b\"],[0.6666666666666666,\"#ed7953\"],[0.7777777777777778,\"#fb9f3a\"],[0.8888888888888888,\"#fdca26\"],[1.0,\"#f0f921\"]],\"diverging\":[[0,\"#8e0152\"],[0.1,\"#c51b7d\"],[0.2,\"#de77ae\"],[0.3,\"#f1b6da\"],[0.4,\"#fde0ef\"],[0.5,\"#f7f7f7\"],[0.6,\"#e6f5d0\"],[0.7,\"#b8e186\"],[0.8,\"#7fbc41\"],[0.9,\"#4d9221\"],[1,\"#276419\"]]},\"xaxis\":{\"gridcolor\":\"white\",\"linecolor\":\"white\",\"ticks\":\"\",\"title\":{\"standoff\":15},\"zerolinecolor\":\"white\",\"automargin\":true,\"zerolinewidth\":2},\"yaxis\":{\"gridcolor\":\"white\",\"linecolor\":\"white\",\"ticks\":\"\",\"title\":{\"standoff\":15},\"zerolinecolor\":\"white\",\"automargin\":true,\"zerolinewidth\":2},\"scene\":{\"xaxis\":{\"backgroundcolor\":\"#E5ECF6\",\"gridcolor\":\"white\",\"linecolor\":\"white\",\"showbackground\":true,\"ticks\":\"\",\"zerolinecolor\":\"white\",\"gridwidth\":2},\"yaxis\":{\"backgroundcolor\":\"#E5ECF6\",\"gridcolor\":\"white\",\"linecolor\":\"white\",\"showbackground\":true,\"ticks\":\"\",\"zerolinecolor\":\"white\",\"gridwidth\":2},\"zaxis\":{\"backgroundcolor\":\"#E5ECF6\",\"gridcolor\":\"white\",\"linecolor\":\"white\",\"showbackground\":true,\"ticks\":\"\",\"zerolinecolor\":\"white\",\"gridwidth\":2}},\"shapedefaults\":{\"line\":{\"color\":\"#2a3f5f\"}},\"annotationdefaults\":{\"arrowcolor\":\"#2a3f5f\",\"arrowhead\":0,\"arrowwidth\":1},\"geo\":{\"bgcolor\":\"white\",\"landcolor\":\"#E5ECF6\",\"subunitcolor\":\"white\",\"showland\":true,\"showlakes\":true,\"lakecolor\":\"white\"},\"title\":{\"x\":0.05},\"mapbox\":{\"style\":\"light\"}}},\"scene\":{\"domain\":{\"x\":[0.0,1.0],\"y\":[0.0,1.0]},\"xaxis\":{\"title\":{\"text\":\"date\"}},\"yaxis\":{\"title\":{\"text\":\"celsius\"}},\"zaxis\":{\"title\":{\"text\":\"humidity\"}}},\"legend\":{\"title\":{\"text\":\"season\"},\"tracegroupgap\":0},\"title\":{\"text\":\"3D Scatter Plot\"}},                        {\"responsive\": true}                    ).then(function(){\n",
       "                            \n",
       "var gd = document.getElementById('97a53e82-d22e-4b1d-9fb6-94df42190c04');\n",
       "var x = new MutationObserver(function (mutations, observer) {{\n",
       "        var display = window.getComputedStyle(gd).display;\n",
       "        if (!display || display === 'none') {{\n",
       "            console.log([gd, 'removed!']);\n",
       "            Plotly.purge(gd);\n",
       "            observer.disconnect();\n",
       "        }}\n",
       "}});\n",
       "\n",
       "// Listen for the removal of the full notebook cells\n",
       "var notebookContainer = gd.closest('#notebook-container');\n",
       "if (notebookContainer) {{\n",
       "    x.observe(notebookContainer, {childList: true});\n",
       "}}\n",
       "\n",
       "// Listen for the clearing of the current output cell\n",
       "var outputEl = gd.closest('.output');\n",
       "if (outputEl) {{\n",
       "    x.observe(outputEl, {childList: true});\n",
       "}}\n",
       "\n",
       "                        })                };                });            </script>        </div>"
      ]
     },
     "metadata": {},
     "output_type": "display_data"
    }
   ],
   "source": [
    "fig_3d = px.scatter_3d(graph_over_time_season, x='date', y='celsius', z='humidity', color='season', title='3D Scatter Plot')\n",
    "fig_3d.show()"
   ]
  },
  {
   "cell_type": "code",
   "execution_count": null,
   "id": "dff4d70e",
   "metadata": {},
   "outputs": [],
   "source": []
  }
 ],
 "metadata": {
  "kernelspec": {
   "display_name": "Python 3 (ipykernel)",
   "language": "python",
   "name": "python3"
  },
  "language_info": {
   "codemirror_mode": {
    "name": "ipython",
    "version": 3
   },
   "file_extension": ".py",
   "mimetype": "text/x-python",
   "name": "python",
   "nbconvert_exporter": "python",
   "pygments_lexer": "ipython3",
   "version": "3.10.9"
  }
 },
 "nbformat": 4,
 "nbformat_minor": 5
}
